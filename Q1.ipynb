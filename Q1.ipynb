{
 "metadata": {
  "language_info": {
   "codemirror_mode": {
    "name": "ipython",
    "version": 3
   },
   "file_extension": ".py",
   "mimetype": "text/x-python",
   "name": "python",
   "nbconvert_exporter": "python",
   "pygments_lexer": "ipython3",
   "version": "3.8.5"
  },
  "orig_nbformat": 2,
  "kernelspec": {
   "name": "python3",
   "display_name": "Python 3.8.5 32-bit"
  },
  "interpreter": {
   "hash": "571bacba9a29d47d526870ce679dff83b29c24567c7b1ef6e20c2daefc5a9ce9"
  }
 },
 "nbformat": 4,
 "nbformat_minor": 2,
 "cells": [
  {
   "cell_type": "code",
   "execution_count": null,
   "metadata": {},
   "outputs": [],
   "source": [
    "%reset -f"
   ]
  },
  {
   "source": [
    "# Question 1 - Nutrition of Dairy Products"
   ],
   "cell_type": "markdown",
   "metadata": {}
  },
  {
   "cell_type": "code",
   "execution_count": null,
   "metadata": {},
   "outputs": [],
   "source": [
    "# Data Manipulation Dependencies\n",
    "import numpy as np\n",
    "import pandas as pd\n",
    "from sklearn.decomposition import PCA\n",
    "from sklearn.preprocessing import StandardScaler\n",
    "\n",
    "# Graphing Dependencies\n",
    "import matplotlib.pyplot as plt\n",
    "import seaborn as sns\n",
    "\n",
    "# Miscellaneous Dependencies\n",
    "from typing import Union, List"
   ]
  },
  {
   "source": [
    "## Import Data"
   ],
   "cell_type": "markdown",
   "metadata": {}
  },
  {
   "cell_type": "code",
   "execution_count": null,
   "metadata": {},
   "outputs": [],
   "source": [
    "df = pd.read_csv('./data/dairy_nutrition.csv')\n",
    "df.drop(columns='Description', inplace=True)\n",
    "df"
   ]
  },
  {
   "cell_type": "code",
   "execution_count": null,
   "metadata": {},
   "outputs": [],
   "source": [
    "# Extract the quantitative variables from the raw data\n",
    "df_numeric = df.drop(columns='Type')\n",
    "df_numeric"
   ]
  },
  {
   "source": [
    "## Part (a)\n",
    "\n",
    "Should PCA be carried out on covariance or correlation matrix?<br />\n",
    "Explain."
   ],
   "cell_type": "markdown",
   "metadata": {}
  },
  {
   "source": [
    "PCA should be carried out on the correlation matrix. All the variables (nutrients) measure mass (per 100g). Although they currently have different scales (g/mg/mcg), it won't matter when they are standardized (converted to z-scores)."
   ],
   "cell_type": "markdown",
   "metadata": {}
  },
  {
   "source": [
    "## Part (b)\n",
    "\n",
    "Extract the principal components.<br />\n",
    "Justify your decision and interpret the principal components.<br />\n",
    "You should include the necessary tables, outputs and graphs."
   ],
   "cell_type": "markdown",
   "metadata": {}
  },
  {
   "cell_type": "code",
   "execution_count": null,
   "metadata": {},
   "outputs": [],
   "source": [
    "# Standardize the data (convert to z-scores)\n",
    "scaler = StandardScaler()\n",
    "\n",
    "df_scaled = pd.DataFrame(\n",
    "    data=scaler.fit_transform(X=df_numeric),\n",
    "    columns=df_numeric.columns,\n",
    "    index=df_numeric.index\n",
    ")\n",
    "\n",
    "# Rename the columns (the variables are unitless after standardization)\n",
    "df_scaled.rename(mapper=dict(\n",
    "    Protein_g='Protein',\n",
    "    Fat_g='Fat',\n",
    "    Carb_g='Carbohydrate',\n",
    "    Sugar_g='Sugar',\n",
    "    VitA_mcg='Vitamin A',\n",
    "    Calcium_mg='Calcium'\n",
    "), axis=1, inplace=True)\n",
    "\n",
    "df_scaled"
   ]
  },
  {
   "cell_type": "code",
   "execution_count": null,
   "metadata": {},
   "outputs": [],
   "source": [
    "# Perform eigendecomposition on correlation matrix\n",
    "pca = PCA(n_components=6).fit(df_scaled)\n",
    "\n",
    "# View the eigenvectors (row-wise)\n",
    "pca.components_.round(5)"
   ]
  },
  {
   "cell_type": "code",
   "execution_count": null,
   "metadata": {},
   "outputs": [],
   "source": [
    "# Summarize eigenvalues, eigenvectors and the amount of variance they explain respectively\n",
    "def get_pca_results(pca, col_names, precision: int = 5):\n",
    "\n",
    "    index = [f'PC {i + 1}' for i in range(pca.n_components_)]\n",
    "    columns = np.concatenate((\n",
    "        np.array(['Eigenvalue', 'Explained Variance', 'Cumulative Explained Variance']),\n",
    "        col_names\n",
    "    ))\n",
    "\n",
    "    return pd.DataFrame(\n",
    "        data=np.hstack((\n",
    "            pca.explained_variance_.reshape(-1, 1),                 # Eigenvalues\n",
    "            pca.explained_variance_ratio_.reshape(-1, 1),           # Explained Variance\n",
    "            pca.explained_variance_ratio_.cumsum().reshape(-1, 1),  # Cumulative Explained Variance\n",
    "            pca.components_                                         # Eigenvectors\n",
    "        )),\n",
    "        index=index,\n",
    "        columns=columns\n",
    "    ).round(precision)\n",
    "\n",
    "pca_results = get_pca_results(pca, df_scaled.columns.values)\n",
    "pca_results"
   ]
  },
  {
   "source": [
    "### Select Principal Components"
   ],
   "cell_type": "markdown",
   "metadata": {}
  },
  {
   "source": [
    "#### Method 1 - Kaiser's Rule\n",
    "\n",
    "PCA was carried out on the correlation matrix, so Kaiser's Rule can be used in this case. Kaiser’s Rule states that only PCs that have eigenvalues greater than 1. By Kaiser's Rule, only the top 2 PCs should be kept."
   ],
   "cell_type": "markdown",
   "metadata": {}
  },
  {
   "cell_type": "code",
   "execution_count": null,
   "metadata": {},
   "outputs": [],
   "source": [
    "def kaisers_rule(pca_results):\n",
    "    return pca_results[pca_results['Eigenvalue'] >= 1]\n",
    "\n",
    "kaisers_rule(pca_results)"
   ]
  },
  {
   "source": [
    "#### Method 2 - Cumulative Explained Variance\n",
    "\n",
    "For this analysis, 80% is the benchmark for sufficient explained variance. The top 2 PCs already explain more than 80% (82%) of the total variance. Hence, only the top 2 PCs should be retained."
   ],
   "cell_type": "markdown",
   "metadata": {}
  },
  {
   "source": [
    "def cumulative_explained_variance(pca_results, proportion=0.8):\n",
    "    cum_expl_var = pca_results['Cumulative Explained Variance']\n",
    "    first_to_cross_threshold = cum_expl_var[cum_expl_var < proportion].shape[0]\n",
    "    return pca_results.iloc[:first_to_cross_threshold + 1]\n",
    "\n",
    "cumulative_explained_variance(pca_results)"
   ],
   "cell_type": "code",
   "metadata": {},
   "execution_count": null,
   "outputs": []
  },
  {
   "source": [
    "#### Method 3 - Scree Plot\n",
    "\n",
    "By the scree plot, there is an elbow at the 3rd PC. Therefore, only the top 2 PCs should be kept."
   ],
   "cell_type": "markdown",
   "metadata": {}
  },
  {
   "cell_type": "code",
   "execution_count": null,
   "metadata": {},
   "outputs": [],
   "source": [
    "def circular_mark(ax, x, y, **kwargs):\n",
    "    default_options = dict(marker='o', mec='r', mfc='none', markersize=28)\n",
    "    for opt in default_options:\n",
    "        if opt not in kwargs.keys():\n",
    "            kwargs[opt] = default_options[opt]\n",
    "    ax.plot(x, y, **kwargs)\n",
    "    return ax"
   ]
  },
  {
   "cell_type": "code",
   "execution_count": null,
   "metadata": {},
   "outputs": [],
   "source": [
    "def scree_plot(pca, mark: Union[int, None] = None):\n",
    "    with sns.axes_style(style='darkgrid'):\n",
    "        ax = sns.pointplot(x=pca.index, y=pca['Eigenvalue'])\n",
    "        ax.set(\n",
    "            title='Scree Plot'\n",
    "        )\n",
    "        if mark is not None:\n",
    "            circular_mark(ax, mark - 1, pca['Eigenvalue'][mark - 1])\n",
    "\n",
    "    return pca.iloc[:mark-1]\n",
    "\n",
    "scree_plot(pca_results, mark=3)"
   ]
  },
  {
   "source": [
    "#### Summary of Principal Component Selection\n",
    "\n",
    "All 3 methods agree that the top 2 Principal Components should be kept."
   ],
   "cell_type": "markdown",
   "metadata": {}
  },
  {
   "cell_type": "code",
   "execution_count": null,
   "metadata": {},
   "outputs": [],
   "source": [
    "def get_focused_pca_results(pca_results, num_of_pcs):\n",
    "    return pca_results.iloc[:num_of_pcs, 3:]\n",
    "\n",
    "pca_results_focused = get_focused_pca_results(pca_results, 2)\n",
    "pca_results_focused"
   ]
  },
  {
   "source": [
    "### Score Plot\n",
    "\n",
    "Visualize the transformed points using a 2D scatter plot."
   ],
   "cell_type": "markdown",
   "metadata": {}
  },
  {
   "cell_type": "code",
   "execution_count": null,
   "metadata": {},
   "outputs": [],
   "source": [
    "def score_plot(df_scaled, pca, labels: Union[pd.Series, None] = None, **kwargs):\n",
    "    transformed = pca.transform(df_scaled)\n",
    "    PC1, PC2 = transformed[:,0], transformed[:,1]\n",
    "\n",
    "    fig, ax = plt.subplots()\n",
    "\n",
    "    if labels is not None:\n",
    "        sns.scatterplot(x=PC1, y=PC2, hue=labels, ax=ax, **kwargs)\n",
    "    else:\n",
    "        sns.scatterplot(x=PC1, y=PC2, ax=ax, **kwargs)\n",
    "\n",
    "    ax.set(\n",
    "        title='Score Plot',\n",
    "        xlabel='PC 1',\n",
    "        ylabel='PC 2'\n",
    "    )\n",
    "    ylim = ax.set_ylim()\n",
    "    xlim = ax.set_xlim()\n",
    "    ax.plot([0, 0], [ylim[0], ylim[1]], color='grey', linestyle='--', linewidth=1)\n",
    "    ax.plot([xlim[0], xlim[1]], [0, 0], color='grey', linestyle='--', linewidth=1)\n",
    "\n",
    "    return ax\n",
    "\n",
    "score_plot(df_scaled, pca, labels=df['Type'])"
   ]
  },
  {
   "source": [
    "From the score plot, it can be observed that the cheese, yogurt and ice cream clusters are quite distinct in terms of PC1 and PC2. The cream data points have more variability across the PC1 axis, and the milk data points are scattered across both axes (perhaps due to outliers)."
   ],
   "cell_type": "markdown",
   "metadata": {}
  },
  {
   "source": [
    "### Loading Plots\n",
    "\n",
    "Visualize the loading values using a 2D scatter plot (This can be done as there are only 2 PCs)."
   ],
   "cell_type": "markdown",
   "metadata": {}
  },
  {
   "cell_type": "code",
   "execution_count": null,
   "metadata": {},
   "outputs": [],
   "source": [
    "def loading_plot(pca_results, width=7, height=5, margin=0.3):\n",
    "\n",
    "    fig, ax = plt.subplots(figsize = (width,height))\n",
    "\n",
    "    x_min, x_max = ax.set_xlim(\n",
    "        min(pca_results.loc['PC 1'].min() , 0) - margin, max(pca_results.loc['PC 1'].max() , 0) + margin)\n",
    "    y_min, y_max = ax.set_ylim(\n",
    "        min(pca_results.loc['PC 2'].min() , 0) - margin, max(pca_results.loc['PC 2'].max() , 0) + margin)\n",
    "\n",
    "    for i, col in enumerate(pca_results):\n",
    "        pc1 = pca_results.loc['PC 1', col]\n",
    "        pc2 = pca_results.loc['PC 2', col]\n",
    "        \n",
    "        alignment = 'left' if pc1 > 0 else 'right'\n",
    "        text_x_adj = 0.02 if pc1 > 0 else -0.02\n",
    "        text_y_adj = 0.02 if pc2 > 0 else -0.01\n",
    "\n",
    "        if col == 'Sugar':\n",
    "            text_x_adj = 0.01\n",
    "            text_y_adj = 0.06\n",
    "        elif col == 'Protein' or col == 'Vitamin A':\n",
    "            text_y_adj = 0\n",
    "\n",
    "        ax.arrow(0, 0, pc1, pc2,\n",
    "            head_width=0.05,\n",
    "            head_length=0.05,\n",
    "            length_includes_head=True,\n",
    "            linewidth=1,\n",
    "            color='red'\n",
    "        )\n",
    "\n",
    "        ax.text(pc1 + text_x_adj, pc2 + text_y_adj, s=pca_results.columns[i],\n",
    "            color='black',\n",
    "            ha=alignment,\n",
    "            va='center',\n",
    "            fontsize=10\n",
    "        )\n",
    "\n",
    "    plt.plot([x_min, x_max], [0, 0], color='grey', linestyle='--', linewidth=1)\n",
    "    plt.plot([0, 0], [y_min, y_max], color='grey', linestyle='--', linewidth=1)\n",
    "    ax.set_xlabel(\"PC1\", fontsize=14)\n",
    "    ax.set_ylabel(\"PC2\", fontsize=14)\n",
    "    ax.set_title(\"Loading plot\", fontsize = 14)\n",
    "\n",
    "loading_plot(pca_results_focused)"
   ]
  },
  {
   "source": [
    "### Interpretation of the Principal Components\n",
    "\n",
    "1.  PC 1:\n",
    "    *   PC 1 seems to measure the contrast between the concentrations of sugar and non-sugar nutrients\n",
    "    *   `Carbohydrate` and `Sugar` are sugar nutrients\n",
    "    *   `Carbohydrate` and `Sugar` have negative loading values for PC 1, while\n",
    "    *   `Calcium`, `Protein`, `Vitamin A` and `Fat` have positive loading values for PC 1\n",
    "    *   A higher score for PC 1 means that the dairy product has a greater concentration of non-sugar nutrients as compared to sugar nutrients\n",
    "    *   A lower score for PC 1 means that the dairy product has a greater concentration of sugar nutrients as compared to non-sugar nutrients\n",
    "2.  PC 2:\n",
    "    *   PC 2 seems to measure the contrast between the concentrations of fats and the other nutrients\n",
    "    *   `Fat` is the only variable with a negative loading value\n",
    "    *   A higher score for PC 2 means that the dairy product has a lower concentration of fats as compared to other nutrients\n",
    "    *   A lower score for PC 2 means that the dairy product has a greater concentration of fats as compared to other nutrients"
   ],
   "cell_type": "markdown",
   "metadata": {}
  },
  {
   "source": [
    "## Part (c)\n",
    "\n",
    "Which type(s) of dairy product has/have the following attributes?<br />\n",
    "Explain your answer with the aid of a suitable graph with colour or marker to display \"Type\" information."
   ],
   "cell_type": "markdown",
   "metadata": {}
  },
  {
   "cell_type": "code",
   "execution_count": null,
   "metadata": {},
   "outputs": [],
   "source": [
    "score_plot(df_scaled, pca, labels=df['Type'])"
   ]
  },
  {
   "source": [
    "### Sub-Part (i)\n",
    "\n",
    "Low carbohydrates and sugar but high in other nutrients."
   ],
   "cell_type": "markdown",
   "metadata": {}
  },
  {
   "source": [
    "Cheese. The cheese (blue) products have generally high PC 1 scores. Recalling the interpretations of the PCs, \"a higher score for PC 1 means that the food has a greater concentration of non-sugar nutrients as compared to sugar nutrients\". Therefore, the dairy product(s) with low carbohydrates and sugar but high in other nutrients should have a high PC 1 score."
   ],
   "cell_type": "markdown",
   "metadata": {}
  },
  {
   "source": [
    "### Sub-Part (ii)\n",
    "\n",
    "High carbohydrates and sugar but low in other nutrients."
   ],
   "cell_type": "markdown",
   "metadata": {}
  },
  {
   "source": [
    "Yogurt and ice cream. The yogurt (orange) and ice cream (purple) products have generally low PC 1 scores. Recalling the interpretations of the PCs, \"a lower score for PC 1 means that the food has a greater concentration of sugar nutrients as compared to non-sugar nutrients\". Therefore, the dairy product(s) with high carbohydrates and sugar but low in other nutrients should have low PC 1 scores.\n",
    "\n",
    "For milk (green) and cream (red) products, some data points have positive PC 1 scores while others have negative PC 1 scores. Due to this inconsistency, they cannot be definitively classified to have high carbohydrates and sugar but low in other nutrients."
   ],
   "cell_type": "markdown",
   "metadata": {}
  },
  {
   "source": [
    "## Part (d)\n",
    "\n",
    "A dairy product has its nutritional value listed below. <br />\n",
    "Which type of dairy product is it likely to be? <br />\n",
    "Show your working and explain.\n",
    "\n",
    "<br />\n",
    "<table style=\"text-align:left;\">\n",
    "    <tr>\n",
    "        <th>Protein</th>\n",
    "        <td style=\"padding:0 2em;\">4.8 g</td>\n",
    "        <th>Sugar</th>\n",
    "        <td style=\"padding:0 2em;\">19.1 g</td>\n",
    "    </tr>\n",
    "    <tr>\n",
    "        <th>Fat</th>\n",
    "        <td style=\"padding:0 2em;\">23 g</td>\n",
    "        <th>Vitamin A</th>\n",
    "        <td style=\"padding:0 2em;\">17 mcg</td>\n",
    "    </tr>\n",
    "    <tr>\n",
    "        <th>Carbohydrate</th>\n",
    "        <td style=\"padding:0 2em;\">26.2 g</td>\n",
    "        <th>Calcium</th>\n",
    "        <td style=\"padding:0 2em;\">121 mg</td>\n",
    "    </tr>\n",
    "</table>"
   ],
   "cell_type": "markdown",
   "metadata": {}
  },
  {
   "cell_type": "code",
   "execution_count": null,
   "metadata": {},
   "outputs": [],
   "source": [
    "def score_plot_with_target(pca, pca_results, df_scaled, scaler, labels, target_vars: List[float]):\n",
    "    def append_to_series(s: pd.Series, value):\n",
    "        return s.append(pd.Series(data=value), ignore_index=True)\n",
    "\n",
    "    def append_to_dataframe(df: pd.DataFrame, values, index):\n",
    "        return df.append(pd.Series(data=values, index=index), ignore_index=True)\n",
    "    \n",
    "    target = np.array(target_vars).reshape(1, -1)\n",
    "\n",
    "    pc_scores = (scaler.transform(target) @ pca_results.T).iloc[0]\n",
    "    target_scaled = scaler.transform(target).flatten()\n",
    "    \n",
    "    ax = score_plot(\n",
    "        append_to_dataframe(df_scaled, scaler.transform(target).flatten(), df_scaled.columns.values),\n",
    "        pca,\n",
    "        labels=append_to_series(labels, 'Target'),\n",
    "        hue_order=['Target', 'Ice cream', 'Cheese', 'Yogurt', 'Cream', 'Milk']\n",
    "    )\n",
    "    \n",
    "    circular_mark(\n",
    "        ax=ax,\n",
    "        x=pc_scores['PC 1'],\n",
    "        y=pc_scores['PC 2'],\n",
    "        markersize=15,\n",
    "        mec='k'\n",
    "    ).arrow(pc_scores['PC 1'], pc_scores['PC 2'] + 1.5, 0, -1, width=0.1, length_includes_head=True, ec='k', fc='none')\n",
    "\n",
    "    return pc_scores\n",
    "\n",
    "score_plot_with_target(pca=pca, pca_results=pca_results_focused, df_scaled=df_scaled, scaler=scaler, labels=df['Type'], target_vars=[4.8, 23, 26.2, 19.1, 17, 121])"
   ]
  },
  {
   "source": [
    "<table style=\"text-align:left;\">\n",
    "    <tr>\n",
    "        <th>Protein</th>\n",
    "        <td style=\"padding:0 2em;\">4.8 g</td>\n",
    "        <th>Sugar</th>\n",
    "        <td style=\"padding:0 2em;\">19.1 g</td>\n",
    "    </tr>\n",
    "    <tr>\n",
    "        <th>Fat</th>\n",
    "        <td style=\"padding:0 2em;\">23 g</td>\n",
    "        <th>Vitamin A</th>\n",
    "        <td style=\"padding:0 2em;\">17 mcg</td>\n",
    "    </tr>\n",
    "    <tr>\n",
    "        <th>Carbohydrate</th>\n",
    "        <td style=\"padding:0 2em;\">26.2 g</td>\n",
    "        <th>Calcium</th>\n",
    "        <td style=\"padding:0 2em;\">121 mg</td>\n",
    "    </tr>\n",
    "</table>\n",
    "<br />\n",
    "<br />\n",
    "The dairy product is likely to be ice cream. The given (above) data was scaled and transformed by PCs 1 and 2, and plotted on a labelled score plot, together with the rest of the data points. As the target datum point (blue) was situated in the `Ice cream` (orange) cluster, it is likely that the dairy product is an ice cream."
   ],
   "cell_type": "markdown",
   "metadata": {}
  }
 ]
}