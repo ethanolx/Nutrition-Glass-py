{
 "metadata": {
  "language_info": {
   "codemirror_mode": {
    "name": "ipython",
    "version": 3
   },
   "file_extension": ".py",
   "mimetype": "text/x-python",
   "name": "python",
   "nbconvert_exporter": "python",
   "pygments_lexer": "ipython3",
   "version": "3.8.5"
  },
  "orig_nbformat": 2,
  "kernelspec": {
   "name": "python385jvsc74a57bd0571bacba9a29d47d526870ce679dff83b29c24567c7b1ef6e20c2daefc5a9ce9",
   "display_name": "Python 3.8.5 32-bit"
  }
 },
 "nbformat": 4,
 "nbformat_minor": 2,
 "cells": [
  {
   "cell_type": "code",
   "execution_count": null,
   "metadata": {},
   "outputs": [],
   "source": [
    "import numpy as np\n",
    "import sympy as sp\n",
    "import pandas as pd\n",
    "\n",
    "import matplotlib.pyplot as plt\n",
    "import seaborn as sns\n",
    "\n",
    "from sklearn.decomposition import PCA"
   ]
  },
  {
   "cell_type": "code",
   "execution_count": null,
   "metadata": {},
   "outputs": [],
   "source": [
    "df = pd.read_csv('./data/dairy_nutrition.csv')\n",
    "df"
   ]
  },
  {
   "cell_type": "code",
   "execution_count": null,
   "metadata": {},
   "outputs": [],
   "source": [
    "df.drop(columns='Description', inplace=True)\n",
    "df"
   ]
  },
  {
   "source": [
    "## Part (a)"
   ],
   "cell_type": "markdown",
   "metadata": {}
  },
  {
   "source": [
    "PCA should be carried out on the correlation matrix. All the variables (nutrients) are measured in terms of mass. Although they have different units, they can be scaled such that they are all in grams."
   ],
   "cell_type": "markdown",
   "metadata": {}
  },
  {
   "source": [
    "## Part (b)"
   ],
   "cell_type": "markdown",
   "metadata": {}
  },
  {
   "cell_type": "code",
   "execution_count": null,
   "metadata": {},
   "outputs": [],
   "source": [
    "df['VitA_g'] = df['VitA_mcg'] * 1e-6\n",
    "df.drop(columns='VitA_mcg', inplace=True)\n",
    "df"
   ]
  },
  {
   "cell_type": "code",
   "execution_count": null,
   "metadata": {},
   "outputs": [],
   "source": [
    "df['Calcium_g'] = df['Calcium_mg'] * 1e-3\n",
    "df.drop(columns='Calcium_mg', inplace=True)\n",
    "df"
   ]
  },
  {
   "cell_type": "code",
   "execution_count": null,
   "metadata": {},
   "outputs": [],
   "source": [
    "df_numeric = df.iloc[:,1:]"
   ]
  },
  {
   "cell_type": "code",
   "execution_count": null,
   "metadata": {},
   "outputs": [],
   "source": [
    "df_corr = df_numeric.corr()\n",
    "df_corr"
   ]
  },
  {
   "cell_type": "code",
   "execution_count": null,
   "metadata": {},
   "outputs": [],
   "source": [
    "pca = PCA(n_components=6).fit(df_numeric)"
   ]
  },
  {
   "cell_type": "code",
   "execution_count": null,
   "metadata": {},
   "outputs": [],
   "source": [
    "def pca_results(data, pca):\n",
    "    \n",
    "    # Dimension indexing\n",
    "    dimensions = [f'PC {i}' for i in range(1, len(pca.components_) + 1)]\n",
    "    \n",
    "    # PCA components\n",
    "    components = pd.DataFrame(np.round(pca.components_, 4), columns = data.keys()) \n",
    "    components.index = dimensions\n",
    "\n",
    "    #PCA eigenvalues\n",
    "    ev = pca.explained_variance_.reshape(len(pca.components_), 1)\n",
    "    eigenvalues = pd.DataFrame(np.round(ev, 4), columns = ['Eigenvalue']) \n",
    "    eigenvalues.index = dimensions\n",
    "    \n",
    "    # PCA explained variance\n",
    "    ratios = pca.explained_variance_ratio_.reshape(len(pca.components_), 1) \n",
    "    variance_ratios = pd.DataFrame(np.round(ratios, 4), columns = ['Explained Variance']) \n",
    "    variance_ratios.index = dimensions\n",
    "\n",
    "    cum_ratios = np.cumsum(ratios)\n",
    "    cum_variance_ratios = pd.DataFrame(np.round(cum_ratios, 4), columns = ['Cumulative Explained Variance']) \n",
    "    cum_variance_ratios.index = dimensions\n",
    "\n",
    "    # Return a concatenated DataFrame\n",
    "    return pd.concat([eigenvalues, variance_ratios, cum_variance_ratios, components], axis = 1)\n",
    "\n",
    "pca_results(df_numeric, pca)"
   ]
  },
  {
   "cell_type": "code",
   "execution_count": null,
   "metadata": {},
   "outputs": [],
   "source": [
    "def corr_pca(df_corr):\n",
    "    eig_vals, eig_vecs = np.linalg.eig(df_corr)\n",
    "\n",
    "    pca_results_ = pd.DataFrame(\n",
    "        data=np.hstack((eig_vals.reshape(-1, 1), eig_vecs)),\n",
    "        columns=[\n",
    "            'Eigenvalue',\n",
    "            'Protein_g', 'Fat_g', 'Carb_g', 'Sugar_g', 'VitA_g', 'Calcium_g']\n",
    "    ).sort_values(\n",
    "        by='Eigenvalue',\n",
    "        ascending=False\n",
    "    )\n",
    "\n",
    "    pca_results_['Explained Variance'] = pca_results_['Eigenvalue'] / df_corr.shape[0]\n",
    "\n",
    "    pca_results_['Cumulative Explained Variance'] = np.cumsum(pca_results_['Explained Variance'])\n",
    "\n",
    "    pca_results_.index = [f'PC {i + 1}' for i in range(pca_results_.shape[0])]\n",
    "\n",
    "    return pca_results_[['Eigenvalue', 'Explained Variance', 'Cumulative Explained Variance', 'Protein_g', 'Fat_g', 'Carb_g', 'Sugar_g', 'VitA_g', 'Calcium_g']].round(4)\n",
    "\n",
    "pca_res = corr_pca(df_corr)"
   ]
  },
  {
   "cell_type": "code",
   "execution_count": null,
   "metadata": {},
   "outputs": [],
   "source": [
    "pca_res"
   ]
  },
  {
   "source": [
    "def eig_expl(pca, proportion=0.8):\n",
    "    cum_expl_var = pca['Cumulative Explained Variance']\n",
    "    first_to_cross_threshold = cum_expl_var[cum_expl_var < proportion].shape[0]\n",
    "    pca_satisified = pca.iloc[:first_to_cross_threshold + 1]\n",
    "    return pca_satisified\n",
    "\n",
    "eig_expl(pca_res)"
   ],
   "cell_type": "code",
   "metadata": {},
   "execution_count": null,
   "outputs": []
  },
  {
   "cell_type": "code",
   "execution_count": null,
   "metadata": {},
   "outputs": [],
   "source": [
    "def eig_more_1(pca):\n",
    "    return pca[pca['Eigenvalue'] >= 1]\n",
    "\n",
    "eig_more_1(pca_res)"
   ]
  },
  {
   "cell_type": "code",
   "execution_count": null,
   "metadata": {},
   "outputs": [],
   "source": [
    "def scree_plot(pca):\n",
    "    with sns.axes_style(style='darkgrid'):\n",
    "        ax = sns.pointplot(x=pca.index, y=pca['Eigenvalue'])\n",
    "        ax.set(\n",
    "            title='Scree Plot'\n",
    "        )\n",
    "        ax.plot(2, pca['Eigenvalue'][2],\n",
    "            marker='o',\n",
    "            mec='r',\n",
    "            mfc='none',\n",
    "            markersize=28\n",
    "        )\n",
    "\n",
    "scree_plot(pca_res)"
   ]
  },
  {
   "cell_type": "code",
   "execution_count": null,
   "metadata": {},
   "outputs": [],
   "source": [
    "pca_res = pca_res.iloc[:2,:]\n",
    "pca_res"
   ]
  },
  {
   "cell_type": "code",
   "execution_count": null,
   "metadata": {},
   "outputs": [],
   "source": [
    "# def original(df, pca):\n",
    "    \n",
    "#     pc1 = pca.components_\n",
    "#     PC1 = df @ pc1\n",
    "\n",
    "#     pc2 = pca.components_.T\n",
    "#     PC2 = df @ pc2\n",
    "\n",
    "#     print(PC1)\n",
    "\n",
    "#     ax = sns.scatterplot(x=PC1, y=PC2)\n",
    "#     ax.set(\n",
    "#         title='Score Plot',\n",
    "#     )\n",
    "#     ylim = ax.get_ylim()\n",
    "#     xlim = ax.get_xlim()\n",
    "#     ax.plot([0, 0], [ylim[0], ylim[1]], color='grey', linestyle='--', linewidth=1)\n",
    "#     ax.plot([xlim[0], xlim[1]], [0, 0], color='grey', linestyle='--', linewidth=1)\n",
    "\n",
    "# original(df_numeric, pca)"
   ]
  },
  {
   "cell_type": "code",
   "execution_count": null,
   "metadata": {},
   "outputs": [],
   "source": [
    "def score_plot(df, pca, centre=False):\n",
    "    \n",
    "    pc1 = pca.loc['PC 1'].iloc[3:]\n",
    "    PC1 = df @ pc1 if not centre else (df - df.mean(axis=0)) @ pc1\n",
    "\n",
    "    pc2 = pca.loc['PC 2'].iloc[3:]\n",
    "    PC2 = df @ pc2 if not centre else (df - df.mean(axis=0)) @ pc2\n",
    "\n",
    "    ax = sns.scatterplot(x=PC1, y=PC2)\n",
    "    ax.set(\n",
    "        title='Score Plot',\n",
    "    )\n",
    "    ylim = ax.get_ylim()\n",
    "    xlim = ax.get_xlim()\n",
    "    ax.plot([0, 0], [ylim[0], ylim[1]], color='grey', linestyle='--', linewidth=1)\n",
    "    ax.plot([xlim[0], xlim[1]], [0, 0], color='grey', linestyle='--', linewidth=1)\n",
    "\n",
    "score_plot(df_numeric, pca_res, centre=True)"
   ]
  },
  {
   "cell_type": "code",
   "execution_count": null,
   "metadata": {},
   "outputs": [],
   "source": [
    "def loading_plot_R(data, pca, width=5, height=5, margin=0.5):\n",
    "\n",
    "    fig, ax = plt.subplots(figsize = (width,height))\n",
    "\n",
    "    #Set limits for figure\n",
    "    x_min = min(pca.loc['PC 1'].min(),0)-margin\n",
    "    x_max = max(pca.loc['PC 1'].max(),0)+margin\n",
    "    y_min = min(pca.loc['PC 2'].min(),0)-margin\n",
    "    y_max = max(pca.loc['PC 2'].max(),0)+margin\n",
    "\n",
    "    ax.set_xlim(x_min, x_max)\n",
    "    ax.set_ylim(y_min, y_max)\n",
    "\n",
    "    #Scaling factor for text position\n",
    "    text_x_adj = -0.1\n",
    "    text_y_adj = 0.2\n",
    "\n",
    "    for i, e in enumerate(pca):\n",
    "        ax.arrow(0, 0, pca_res[e]['PC 1'], pca_res[e]['PC 2'], head_width=0.1, head_length=0.1, linewidth=2, color='red')\n",
    "        ax.text(pca_res[e]['PC 1'] + text_x_adj, pca_res[e]['PC 2'] + text_y_adj, data.columns[i], color='black', ha='center', va='center', fontsize=12)\n",
    "\n",
    "    plt.plot([x_min, x_max], [0, 0], color='k', linestyle='--', linewidth=1)\n",
    "    plt.plot([0, 0], [y_min, y_max], color='k', linestyle='--', linewidth=1)\n",
    "    ax.set_xlabel(\"PC1\", fontsize=14)\n",
    "    ax.set_ylabel(\"PC2\", fontsize=14)\n",
    "    ax.set_title(\"Loading plot\", fontsize = 14)\n",
    "\n",
    "loading_plot_R(df_numeric, pca_res.iloc[:,3:])"
   ]
  },
  {
   "cell_type": "code",
   "execution_count": null,
   "metadata": {},
   "outputs": [],
   "source": [
    "# This function plots the loading plot.\n",
    "# Pass original data dataframe and returns of PCA to this function. Optional width, height and margin\n",
    "# This function returns the axes of the loading plot\n",
    "\n",
    "def loading_plot_C(data, pca, width=5, height=5, margin=0.5):\n",
    "\n",
    "    fig, ax = plt.subplots(figsize = (width,height))\n",
    "\n",
    "    #Set limits for figure\n",
    "    x_min = min(pca.components_[0,:].min(),0)-margin\n",
    "    x_max = max(pca.components_[0,:].max(),0)+margin\n",
    "    y_min = min(pca.components_[1,:].min(),0)-margin\n",
    "    y_max = max(pca.components_[1,:].max(),0)+margin\n",
    "\n",
    "    ax.set_xlim(x_min, x_max)\n",
    "    ax.set_ylim(y_min, y_max)\n",
    "\n",
    "    #Scaling factor for text position\n",
    "    text_pos = 0.2\n",
    "\n",
    "    for i, v in enumerate(pca.components_.T):\n",
    "        ax.arrow(0, 0, v[0], v[1], head_width=0.1, head_length=0.1, linewidth=2, color='red')\n",
    "        ax.text(v[0], v[1]+text_pos, data.columns[i], color='black', ha='center', va='center', fontsize=12)\n",
    "\n",
    "    plt.plot([x_min, x_max], [0, 0], color='k', linestyle='--', linewidth=1)\n",
    "    plt.plot([0, 0], [y_min, y_max], color='k', linestyle='--', linewidth=1)\n",
    "    ax.set_xlabel(\"PC1\", fontsize=14)\n",
    "    ax.set_ylabel(\"PC2\", fontsize=14)\n",
    "    ax.set_title(\"Loading plot\", fontsize = 14)\n",
    "\n",
    "loading_plot_C(df_numeric, pca)"
   ]
  },
  {
   "cell_type": "code",
   "execution_count": null,
   "metadata": {},
   "outputs": [],
   "source": [
    "def score_plot_labels(df, df_numeric, pca):\n",
    "    pc1 = pca.loc['PC 1'].iloc[3:]\n",
    "    PC1 = (df_numeric - df_numeric.mean(axis=0)) @ pc1\n",
    "\n",
    "    pc2 = pca.loc['PC 2'].iloc[3:]\n",
    "    PC2 = (df_numeric - df_numeric.mean(axis=0)) @ pc2\n",
    "\n",
    "    comb = pd.concat(objs=(df['Type'], PC1, PC2), axis=1)\n",
    "    comb.columns = ['Type', 'PC1', 'PC2']\n",
    "\n",
    "    ax = sns.scatterplot(data=comb, x='PC1', y='PC2', hue='Type')\n",
    "    ax.set(\n",
    "        title='Score Plot'\n",
    "    )\n",
    "    ylim = ax.get_ylim()\n",
    "    xlim = ax.get_xlim()\n",
    "    ax.plot([0, 0], [ylim[0], ylim[1]], color='grey', linestyle='--', linewidth=1)\n",
    "    ax.plot([xlim[0], xlim[1]], [0, 0], color='grey', linestyle='--', linewidth=1)\n",
    "\n",
    "score_plot_labels(df, df_numeric, pca_res)"
   ]
  },
  {
   "source": [
    "## Part (c)"
   ],
   "cell_type": "markdown",
   "metadata": {}
  },
  {
   "cell_type": "code",
   "execution_count": null,
   "metadata": {},
   "outputs": [],
   "source": []
  }
 ]
}