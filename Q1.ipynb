{
 "metadata": {
  "language_info": {
   "codemirror_mode": {
    "name": "ipython",
    "version": 3
   },
   "file_extension": ".py",
   "mimetype": "text/x-python",
   "name": "python",
   "nbconvert_exporter": "python",
   "pygments_lexer": "ipython3",
   "version": "3.8.5"
  },
  "orig_nbformat": 2,
  "kernelspec": {
   "name": "python385jvsc74a57bd0571bacba9a29d47d526870ce679dff83b29c24567c7b1ef6e20c2daefc5a9ce9",
   "display_name": "Python 3.8.5 32-bit"
  }
 },
 "nbformat": 4,
 "nbformat_minor": 2,
 "cells": [
  {
   "cell_type": "code",
   "execution_count": null,
   "metadata": {},
   "outputs": [],
   "source": [
    "%reset -f"
   ]
  },
  {
   "cell_type": "code",
   "execution_count": null,
   "metadata": {},
   "outputs": [],
   "source": [
    "import numpy as np\n",
    "import sympy as sp\n",
    "import pandas as pd\n",
    "\n",
    "import matplotlib.pyplot as plt\n",
    "import seaborn as sns\n",
    "\n",
    "from typing import Union\n",
    "\n",
    "from sklearn.decomposition import PCA\n",
    "from sklearn.preprocessing import StandardScaler"
   ]
  },
  {
   "cell_type": "code",
   "execution_count": null,
   "metadata": {},
   "outputs": [],
   "source": [
    "df = pd.read_csv('./data/dairy_nutrition.csv')\n",
    "df"
   ]
  },
  {
   "cell_type": "code",
   "execution_count": null,
   "metadata": {},
   "outputs": [],
   "source": [
    "df.drop(columns='Description', inplace=True)\n",
    "df"
   ]
  },
  {
   "source": [
    "## Part (a)"
   ],
   "cell_type": "markdown",
   "metadata": {}
  },
  {
   "source": [
    "PCA should be carried out on the correlation matrix. All the variables (nutrients) are measured in terms of mass. Although they have different units, they can be scaled such that they are all in grams."
   ],
   "cell_type": "markdown",
   "metadata": {}
  },
  {
   "source": [
    "## Part (b)"
   ],
   "cell_type": "markdown",
   "metadata": {}
  },
  {
   "cell_type": "code",
   "execution_count": null,
   "metadata": {},
   "outputs": [],
   "source": [
    "df_numeric = df.drop(columns='Type')\n",
    "df_numeric"
   ]
  },
  {
   "cell_type": "code",
   "execution_count": null,
   "metadata": {},
   "outputs": [],
   "source": [
    "scaler = StandardScaler()\n",
    "\n",
    "df_scaled = pd.DataFrame(\n",
    "    data=scaler.fit_transform(X=df_numeric),\n",
    "    columns=df_numeric.columns,\n",
    "    index=df_numeric.index\n",
    ")\n",
    "\n",
    "df_scaled.rename(mapper=dict(\n",
    "    Protein_g='Protein',\n",
    "    Fat_g='Fat',\n",
    "    Carb_g='Carbohydrates',\n",
    "    Sugar_g='Sugar',\n",
    "    VitA_mcg='Vitamin A',\n",
    "    Calcium_mg='Calcium'\n",
    "), axis=1, inplace=True)\n",
    "\n",
    "df_scaled"
   ]
  },
  {
   "cell_type": "code",
   "execution_count": null,
   "metadata": {},
   "outputs": [],
   "source": [
    "pca = PCA(n_components=6).fit(df_scaled)\n",
    "\n",
    "pca.components_.round(5)"
   ]
  },
  {
   "cell_type": "code",
   "execution_count": null,
   "metadata": {},
   "outputs": [],
   "source": [
    "def get_pca_results(pca, col_names, precision: int = 5):\n",
    "\n",
    "    index = [f'PC {i + 1}' for i in range(pca.n_components_)]\n",
    "    columns = np.concatenate((\n",
    "        np.array(['Eigenvalue', 'Explained Variance', 'Cumulative Explained Variance']),\n",
    "        col_names\n",
    "    ))\n",
    "\n",
    "    return pd.DataFrame(\n",
    "        data=np.hstack((\n",
    "            pca.explained_variance_.reshape(-1, 1),                 # Eigenvalues\n",
    "            pca.explained_variance_ratio_.reshape(-1, 1),           # Explained Variance\n",
    "            pca.explained_variance_ratio_.cumsum().reshape(-1, 1),  # Cumulative Explained Variance\n",
    "            pca.components_                                         # Eigenvectors\n",
    "        )),\n",
    "        index=index,\n",
    "        columns=columns\n",
    "    ).round(precision)\n",
    "\n",
    "pca_results = get_pca_results(pca, df_scaled.columns.values)\n",
    "pca_results"
   ]
  },
  {
   "cell_type": "code",
   "execution_count": null,
   "metadata": {},
   "outputs": [],
   "source": [
    "# def corr_pca(df_corr):\n",
    "#     eig_vals, eig_vecs = np.linalg.eig(df_corr)\n",
    "\n",
    "#     pca_results_ = pd.DataFrame(\n",
    "#         data=np.hstack((eig_vals.reshape(-1, 1), eig_vecs.T)),\n",
    "#         columns=[\n",
    "#             'Eigenvalue',\n",
    "#             'Protein_g', 'Fat_g', 'Carb_g', 'Sugar_g', 'VitA_g', 'Calcium_g']\n",
    "#     ).sort_values(\n",
    "#         by='Eigenvalue',\n",
    "#         ascending=False\n",
    "#     )\n",
    "\n",
    "#     pca_results_['Explained Variance'] = pca_results_['Eigenvalue'] / df_corr.shape[0]\n",
    "\n",
    "#     pca_results_['Cumulative Explained Variance'] = np.cumsum(pca_results_['Explained Variance'])\n",
    "\n",
    "#     pca_results_.index = [f'PC {i + 1}' for i in range(pca_results_.shape[0])]\n",
    "\n",
    "#     return pca_results_[['Eigenvalue', 'Explained Variance', 'Cumulative Explained Variance', 'Protein_g', 'Fat_g', 'Carb_g', 'Sugar_g', 'VitA_g', 'Calcium_g']].round(4)\n",
    "\n",
    "# pca_res = corr_pca(df_corr)"
   ]
  },
  {
   "source": [
    "def eig_expl(pca, proportion=0.8):\n",
    "    cum_expl_var = pca['Cumulative Explained Variance']\n",
    "    first_to_cross_threshold = cum_expl_var[cum_expl_var < proportion].shape[0]\n",
    "    pca_satisified = pca.iloc[:first_to_cross_threshold + 1]\n",
    "    return pca_satisified\n",
    "\n",
    "eig_expl(pca_results)"
   ],
   "cell_type": "code",
   "metadata": {},
   "execution_count": null,
   "outputs": []
  },
  {
   "cell_type": "code",
   "execution_count": null,
   "metadata": {},
   "outputs": [],
   "source": [
    "def eig_more_than_1(pca):\n",
    "    return pca[pca['Eigenvalue'] >= 1]\n",
    "\n",
    "eig_more_than_1(pca_results)"
   ]
  },
  {
   "cell_type": "code",
   "execution_count": null,
   "metadata": {},
   "outputs": [],
   "source": [
    "def circular_mark(ax, x, y, **kwargs):\n",
    "    default_options = dict(marker='o', mec='r', mfc='none', markersize=28)\n",
    "    for opt in default_options:\n",
    "        if opt not in kwargs.keys():\n",
    "            kwargs[opt] = default_options[opt]\n",
    "    ax.plot(x, y, **kwargs)\n",
    "    return ax"
   ]
  },
  {
   "cell_type": "code",
   "execution_count": null,
   "metadata": {},
   "outputs": [],
   "source": [
    "def scree_plot(pca, mark: Union[int, None] = None):\n",
    "    with sns.axes_style(style='darkgrid'):\n",
    "        ax = sns.pointplot(x=pca.index, y=pca['Eigenvalue'])\n",
    "        ax.set(\n",
    "            title='Scree Plot'\n",
    "        )\n",
    "        if mark is not None:\n",
    "            circular_mark(ax, mark - 1, pca['Eigenvalue'][mark - 1])\n",
    "\n",
    "    return pca.iloc[:mark-1]\n",
    "\n",
    "scree_plot(pca_results, mark=3)"
   ]
  },
  {
   "cell_type": "code",
   "execution_count": null,
   "metadata": {},
   "outputs": [],
   "source": [
    "def get_focused_pca(pca, num_of_pcs):\n",
    "    return pca_results.iloc[:num_of_pcs, 3:]\n",
    "\n",
    "pca_results_focused = get_focused_pca(pca_results, 2)\n",
    "pca_results_focused"
   ]
  },
  {
   "cell_type": "code",
   "execution_count": null,
   "metadata": {},
   "outputs": [],
   "source": [
    "def score_plot(df_scaled, pca, labels: Union[pd.Series, None] = None, **kwargs):\n",
    "\n",
    "    PC1 = df_scaled @ pca.loc['PC 1']\n",
    "    PC2 = df_scaled @ pca.loc['PC 2']\n",
    "\n",
    "    fig, ax = plt.subplots()\n",
    "\n",
    "    if labels is not None:\n",
    "        sns.scatterplot(x=PC1, y=PC2, hue=labels, ax=ax, **kwargs)\n",
    "    else:\n",
    "        sns.scatterplot(x=PC1, y=PC2, ax=ax, **kwargs)\n",
    "\n",
    "    ax.set(\n",
    "        title='Score Plot',\n",
    "        xlabel='PC 1',\n",
    "        ylabel='PC 2'\n",
    "    )\n",
    "\n",
    "    ylim = ax.set_ylim()\n",
    "    xlim = ax.set_xlim()\n",
    "\n",
    "    ax.plot([0, 0], [ylim[0], ylim[1]], color='grey', linestyle='--', linewidth=1)\n",
    "    ax.plot([xlim[0], xlim[1]], [0, 0], color='grey', linestyle='--', linewidth=1)\n",
    "    return ax\n",
    "\n",
    "score_plot(df_scaled, pca_results_focused, df['Type'])"
   ]
  },
  {
   "cell_type": "code",
   "execution_count": null,
   "metadata": {},
   "outputs": [],
   "source": [
    "def loading_plot(pca, width=7, height=7, margin=0.5):\n",
    "\n",
    "    fig, ax = plt.subplots(figsize = (width,height))\n",
    "\n",
    "    x_min, x_max = ax.set_xlim(\n",
    "        min(pca.loc['PC 1'].min() , 0) - margin, max(pca.loc['PC 1'].max() , 0) + margin)\n",
    "    y_min, y_max = ax.set_ylim(\n",
    "        min(pca.loc['PC 2'].min() , 0) - margin, max(pca.loc['PC 2'].max() , 0) + margin)\n",
    "\n",
    "    for i, col in enumerate(pca):\n",
    "        var = pca[col]\n",
    "        pc1 = var['PC 1']\n",
    "        pc2 = var['PC 2']\n",
    "        \n",
    "        alignment = 'left' if pc1 > 0 else 'right'\n",
    "        text_x_adj = 1.01 if pc1 > 0 else 1.03\n",
    "        text_y_adj = 1.02\n",
    "\n",
    "        ax.arrow(0, 0, pc1, pc2,\n",
    "            head_width=0.05,\n",
    "            head_length=0.05,\n",
    "            length_includes_head=True,\n",
    "            linewidth=1,\n",
    "            color='red'\n",
    "        )\n",
    "\n",
    "        ax.text(pc1 * text_x_adj ** 3, pc2 * text_y_adj ** 3, s=pca.columns[i],\n",
    "            color='black',\n",
    "            ha=alignment,\n",
    "            va='center',\n",
    "            fontsize=10\n",
    "        )\n",
    "\n",
    "    plt.plot([x_min, x_max], [0, 0], color='grey', linestyle='--', linewidth=1)\n",
    "    plt.plot([0, 0], [y_min, y_max], color='grey', linestyle='--', linewidth=1)\n",
    "    ax.set_xlabel(\"PC1\", fontsize=14)\n",
    "    ax.set_ylabel(\"PC2\", fontsize=14)\n",
    "    ax.set_title(\"Loading plot\", fontsize = 14)\n",
    "\n",
    "loading_plot(pca_results_focused)"
   ]
  },
  {
   "source": [
    "### Interpretation of the Principal Components\n",
    "\n",
    "1.  PC 1:\n",
    "    *   PC 1 seems to represent the contrast between sugar and non-sugar nutrients\n",
    "    *   `Carbohydrates` and `Sugars` have negative loading values for PC 1, while\n",
    "    *   `Calcium`, `Protein`, `Vitamin A` and `Fat` have positive loading values for PC 1\n",
    "    *   Therefore, a higher score for PC 1 means that the food has a greater imbalance of sugar and non-sugar nutrients\n",
    "    *   A lower score for PC 1 means that the food is very sugary and, possibly, very sweet\n",
    "2.  PC 2:\n",
    "    *   PC 2 seems to represent the contrast between fat and the rest of the nutrients\n",
    "    *   `Fat` is the only variable with a negative loading value\n",
    "    *   Therefore, a higher score for PC 2 means that the food has little fats\n",
    "    *   On the other hand, a lower score for PC 2 indicates that the food is quite fatty"
   ],
   "cell_type": "markdown",
   "metadata": {}
  },
  {
   "cell_type": "code",
   "execution_count": null,
   "metadata": {},
   "outputs": [],
   "source": [
    "# # This function plots the loading plot.\n",
    "# # Pass original data dataframe and returns of PCA to this function. Optional width, height and margin\n",
    "# # This function returns the axes of the loading plot\n",
    "\n",
    "# def loading_plot_C(data, pca, width=5, height=5, margin=0.5):\n",
    "\n",
    "#     fig, ax = plt.subplots(figsize = (width,height))\n",
    "\n",
    "#     #Set limits for figure\n",
    "#     x_min = min(pca.components_[0,:].min(),0)-margin\n",
    "#     x_max = max(pca.components_[0,:].max(),0)+margin\n",
    "#     y_min = min(pca.components_[1,:].min(),0)-margin\n",
    "#     y_max = max(pca.components_[1,:].max(),0)+margin\n",
    "\n",
    "#     ax.set_xlim(x_min, x_max)\n",
    "#     ax.set_ylim(y_min, y_max)\n",
    "\n",
    "#     #Scaling factor for text position\n",
    "#     text_pos = 0.2\n",
    "\n",
    "#     for i, v in enumerate(pca.components_.T):\n",
    "#         ax.arrow(0, 0, v[0], v[1], head_width=0.1, head_length=0.1, linewidth=2, color='red')\n",
    "#         ax.text(v[0], v[1]+text_pos, data.columns[i], color='black', ha='center', va='center', fontsize=12)\n",
    "\n",
    "#     plt.plot([x_min, x_max], [0, 0], color='k', linestyle='--', linewidth=1)\n",
    "#     plt.plot([0, 0], [y_min, y_max], color='k', linestyle='--', linewidth=1)\n",
    "#     ax.set_xlabel(\"PC1\", fontsize=14)\n",
    "#     ax.set_ylabel(\"PC2\", fontsize=14)\n",
    "#     ax.set_title(\"Loading plot\", fontsize = 14)\n",
    "\n",
    "# loading_plot_C(df_numeric, pca)"
   ]
  },
  {
   "source": [
    "## Part (c)\n",
    "\n",
    "Which type(s) of dairy product has/have the following attributes? Explain your answer with the aid of a suitable graph with colour or marker to display ‘Type’ information."
   ],
   "cell_type": "markdown",
   "metadata": {}
  },
  {
   "cell_type": "code",
   "execution_count": null,
   "metadata": {},
   "outputs": [],
   "source": [
    "score_plot(df_scaled, pca_results_focused, labels=df['Type'])"
   ]
  },
  {
   "source": [
    "### Sub-Part (i)\n",
    "\n",
    "Low carbohydrates and sugar but high in other nutrients.\n",
    "\n",
    "<br />\n",
    "Answer: Cheese\n",
    "<br />\n",
    "Explanation: Cheese products have generally high PC 1 scores"
   ],
   "cell_type": "markdown",
   "metadata": {}
  },
  {
   "source": [
    "### Sub-Part (ii)\n",
    "\n",
    "High carbohydrates and sugar but low in other nutrients.\n",
    "\n",
    "<br />\n",
    "Answer: Yogurt and Ice Cream\n",
    "<br />\n",
    "Explanation: Yogurt and Ice Cream products have generally low PC 1 scores"
   ],
   "cell_type": "markdown",
   "metadata": {}
  },
  {
   "source": [
    "## Part (d)\n",
    "\n",
    "A dairy product has its nutritional value listed below. Which type of dairy product is it\n",
    "likely to be? Show your working and explain.\n",
    "\n",
    "<br />\n",
    "<table style=\"text-align:left;\">\n",
    "    <tr>\n",
    "        <th>Protein</th>\n",
    "        <td style=\"padding:0 2em;\">4.8 g</td>\n",
    "        <th>Sugar</th>\n",
    "        <td style=\"padding:0 2em;\">19.1 g</td>\n",
    "    </tr>\n",
    "    <tr>\n",
    "        <th>Fat</th>\n",
    "        <td style=\"padding:0 2em;\">23 g</td>\n",
    "        <th>Vitamin A</th>\n",
    "        <td style=\"padding:0 2em;\">17 mcg</td>\n",
    "    </tr>\n",
    "    <tr>\n",
    "        <th>Carbohydrate</th>\n",
    "        <td style=\"padding:0 2em;\">26.2 g</td>\n",
    "        <th>Calcium</th>\n",
    "        <td style=\"padding:0 2em;\">121 mg</td>\n",
    "    </tr>\n",
    "</table>"
   ],
   "cell_type": "markdown",
   "metadata": {}
  },
  {
   "cell_type": "code",
   "execution_count": null,
   "metadata": {},
   "outputs": [],
   "source": [
    "target = np.array([4.8, 23, 26.2, 19.1, 17, 121]).reshape(1, -1)"
   ]
  },
  {
   "cell_type": "code",
   "execution_count": null,
   "metadata": {},
   "outputs": [],
   "source": [
    "pc_scores = (scaler.transform(target) @ pca_results_focused.T).iloc[0]\n",
    "pc_scores"
   ]
  },
  {
   "cell_type": "code",
   "execution_count": null,
   "metadata": {},
   "outputs": [],
   "source": [
    "def append_to_series(s: pd.Series, value):\n",
    "    return s.append(pd.Series(data=value), ignore_index=True)\n",
    "\n",
    "def append_to_dataframe(df: pd.DataFrame, values, index):\n",
    "    return df.append(pd.Series(data=values, index=index), ignore_index=True)"
   ]
  },
  {
   "cell_type": "code",
   "execution_count": null,
   "metadata": {},
   "outputs": [],
   "source": [
    "circular_mark(score_plot(\n",
    "    append_to_dataframe(df_scaled, scaler.transform(target).flatten(), df_scaled.columns.values),\n",
    "    pca_results_focused,\n",
    "    labels=append_to_series(df['Type'], 'Target'),\n",
    "    hue_order=['Target', 'Ice cream', 'Cheese', 'Yogurt', 'Cream', 'Milk']),\n",
    "        pc_scores['PC 1'], pc_scores['PC 2'],\n",
    "        markersize=15\n",
    ")"
   ]
  },
  {
   "source": [
    "Answer: Ice Cream\n",
    "<br />\n",
    "Explanation: According to the labelled score plot above, the target is "
   ],
   "cell_type": "markdown",
   "metadata": {}
  }
 ]
}