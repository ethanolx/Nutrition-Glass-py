{
 "metadata": {
  "language_info": {
   "codemirror_mode": {
    "name": "ipython",
    "version": 3
   },
   "file_extension": ".py",
   "mimetype": "text/x-python",
   "name": "python",
   "nbconvert_exporter": "python",
   "pygments_lexer": "ipython3",
   "version": "3.8.5"
  },
  "orig_nbformat": 2,
  "kernelspec": {
   "name": "python385jvsc74a57bd0571bacba9a29d47d526870ce679dff83b29c24567c7b1ef6e20c2daefc5a9ce9",
   "display_name": "Python 3.8.5 32-bit"
  }
 },
 "nbformat": 4,
 "nbformat_minor": 2,
 "cells": [
  {
   "source": [
    "# Question 2"
   ],
   "cell_type": "markdown",
   "metadata": {}
  },
  {
   "cell_type": "code",
   "execution_count": null,
   "metadata": {},
   "outputs": [],
   "source": [
    "# Data Manipulation Dependencies\n",
    "import numpy as np\n",
    "import pandas as pd\n",
    "from sklearn.decomposition import PCA\n",
    "\n",
    "# Graphing Dependencies\n",
    "import matplotlib.pyplot as plt\n",
    "import seaborn as sns\n",
    "import plotly.express as px\n",
    "\n",
    "# Miscellaneous Dependencies\n",
    "from typing import Union, List"
   ]
  },
  {
   "source": [
    "## Import Data"
   ],
   "cell_type": "markdown",
   "metadata": {}
  },
  {
   "cell_type": "code",
   "execution_count": null,
   "metadata": {},
   "outputs": [],
   "source": [
    "df = pd.read_csv('./data/glass.csv')\n",
    "df.drop(columns='ID', inplace=True)\n",
    "df"
   ]
  },
  {
   "source": [
    "## Part (a)\n",
    "\n",
    "Should PCA be carried out on covariance or correlation matrix?\n",
    "\n",
    "Explain."
   ],
   "cell_type": "markdown",
   "metadata": {}
  },
  {
   "source": [
    "PCA should be carried out on the covariance matrix. `RI` measures the ratio of the velocity of light in a vacuum to its velocity in the objects. On the other hand, `Na`, `Mg`, `Al`, `Si`, `K` and `Ca` measure the proportions of their corresponding oxides in the objects by weight. As `RI` and the 6 other quantitative variables have different scales and measure different things, PCA should be carried out on the covariance matrix instead of the correlation matrix."
   ],
   "cell_type": "markdown",
   "metadata": {}
  },
  {
   "source": [
    "## Part (b)\n",
    "\n",
    "Extract the principal components.\n",
    "\n",
    "Justify your decision and interpret the principal components.\n",
    "\n",
    "You should include the necessary tables, outputs and graphs."
   ],
   "cell_type": "markdown",
   "metadata": {}
  },
  {
   "cell_type": "code",
   "execution_count": null,
   "metadata": {},
   "outputs": [],
   "source": [
    "df_numeric = df.iloc[:,:-1]\n",
    "df_numeric"
   ]
  },
  {
   "cell_type": "code",
   "execution_count": null,
   "metadata": {},
   "outputs": [],
   "source": [
    "pca = PCA(n_components=7).fit(df_numeric)\n",
    "\n",
    "pca.components_.round(5)"
   ]
  },
  {
   "cell_type": "code",
   "execution_count": null,
   "metadata": {},
   "outputs": [],
   "source": [
    "def get_pca_results(pca, col_names, precision: int = 5):\n",
    "\n",
    "    index = [f'PC {i + 1}' for i in range(pca.n_components_)]\n",
    "    columns = np.concatenate((\n",
    "        np.array(['Eigenvalue', 'Explained Variance', 'Cumulative Explained Variance']),\n",
    "        col_names\n",
    "    ))\n",
    "\n",
    "    return pd.DataFrame(\n",
    "        data=np.hstack((\n",
    "            pca.explained_variance_.reshape(-1, 1),                 # Eigenvalues\n",
    "            pca.explained_variance_ratio_.reshape(-1, 1),           # Explained Variance\n",
    "            pca.explained_variance_ratio_.cumsum().reshape(-1, 1),  # Cumulative Explained Variance\n",
    "            pca.components_                                         # Eigenvectors\n",
    "        )),\n",
    "        index=index,\n",
    "        columns=columns\n",
    "    ).round(precision)\n",
    "\n",
    "pca_results = get_pca_results(pca, df_numeric.columns.values)\n",
    "pca_results"
   ]
  },
  {
   "source": [
    "### Select Principal Components"
   ],
   "cell_type": "markdown",
   "metadata": {}
  },
  {
   "source": [
    "#### Method 1 - Cumulative Explained Variance"
   ],
   "cell_type": "markdown",
   "metadata": {}
  },
  {
   "source": [
    "def eig_expl(pca, proportion=0.8):\n",
    "    cum_expl_var = pca['Cumulative Explained Variance']\n",
    "    first_to_cross_threshold = cum_expl_var[cum_expl_var < proportion].shape[0]\n",
    "    pca_satisified = pca.iloc[:first_to_cross_threshold + 1]\n",
    "    return pca_satisified\n",
    "\n",
    "eig_expl(pca_results)"
   ],
   "cell_type": "code",
   "metadata": {},
   "execution_count": null,
   "outputs": []
  },
  {
   "source": [
    "#### Method 2 - Eigenvalues\n",
    "\n",
    "PCA was not carried out on covariance matrix, so Method 2 is not applicable"
   ],
   "cell_type": "markdown",
   "metadata": {}
  },
  {
   "cell_type": "code",
   "execution_count": null,
   "metadata": {},
   "outputs": [],
   "source": [
    "# def eig_more_1(pca):\n",
    "#     return pca[pca['Eigenvalue'] >= 1]\n",
    "# \n",
    "# eig_more_1(pca_results)"
   ]
  },
  {
   "source": [
    "#### Method 3 - Scree Plot"
   ],
   "cell_type": "markdown",
   "metadata": {}
  },
  {
   "cell_type": "code",
   "execution_count": null,
   "metadata": {},
   "outputs": [],
   "source": [
    "def circular_mark(ax, x, y, **kwargs):\n",
    "    default_options = dict(marker='o', mec='r', mfc='none', markersize=28)\n",
    "    for opt in default_options:\n",
    "        if opt not in kwargs.keys():\n",
    "            kwargs[opt] = default_options[opt]\n",
    "    ax.plot(x, y, **kwargs)\n",
    "    return ax"
   ]
  },
  {
   "cell_type": "code",
   "execution_count": null,
   "metadata": {},
   "outputs": [],
   "source": [
    "def scree_plot(pca, mark: Union[int, None] = None):\n",
    "    with sns.axes_style(style='darkgrid'):\n",
    "        ax = sns.pointplot(x=pca.index, y=pca['Eigenvalue'])\n",
    "        ax.set(\n",
    "            title='Scree Plot'\n",
    "        )\n",
    "        if mark is not None:\n",
    "            circular_mark(ax, mark - 1, pca['Eigenvalue'][mark - 1])\n",
    "\n",
    "    return pca.iloc[:mark-1]\n",
    "\n",
    "scree_plot(pca_results, mark=4)"
   ]
  },
  {
   "source": [
    "Both methods 1 and 3 agree that the top 3 Principal Components should be kept"
   ],
   "cell_type": "markdown",
   "metadata": {}
  },
  {
   "cell_type": "code",
   "execution_count": null,
   "metadata": {},
   "outputs": [],
   "source": [
    "def get_focused_pca(pca, num_of_pcs):\n",
    "    return pca_results.iloc[:num_of_pcs, 3:]\n",
    "\n",
    "pca_results_focused = get_focused_pca(pca_results, 3)\n",
    "pca_results_focused"
   ]
  },
  {
   "cell_type": "code",
   "execution_count": null,
   "metadata": {},
   "outputs": [],
   "source": [
    "### Score Plot\n",
    "\n",
    "Visualize the transformed"
   ]
  },
  {
   "cell_type": "code",
   "execution_count": null,
   "metadata": {},
   "outputs": [],
   "source": [
    "def score_plot(df, pca, labels: Union[pd.Series, None] = None, centre=False):\n",
    "\n",
    "    PC1 = df @ pca.loc['PC 1'] if not centre else (df - df.mean(axis=0)) @ pca.loc['PC 1']\n",
    "    PC2 = df @ pca.loc['PC 2'] if not centre else (df - df.mean(axis=0)) @ pca.loc['PC 2']\n",
    "    PC3 = df @ pca.loc['PC 3'] if not centre else (df - df.mean(axis=0)) @ pca.loc['PC 3']\n",
    "\n",
    "    fig = px.scatter_3d(x=PC1, y=PC2, z=PC3, color=labels, title='Score Plot', labels={'x': 'PC 1', 'y': 'PC 2', 'z': 'PC 3'}, width=800, height=500)\n",
    "\n",
    "    fig.update_layout(margin=dict(l=30, r=10, t=75, b=20))\n",
    "    return fig\n",
    "\n",
    "score_plot(df_numeric, pca_results_focused, labels=df['Class'], centre=True).show()"
   ]
  },
  {
   "cell_type": "code",
   "execution_count": null,
   "metadata": {},
   "outputs": [],
   "source": [
    "def score_plot_2(df, pca, labels: Union[pd.Series, None] = None):\n",
    "    \n",
    "    transformed = pca.transform(df)\n",
    "    PC1, PC2, PC3 = transformed[:,:3]\n",
    "\n",
    "    # fig = px.scatter_3d(x=PC1, y=PC2, z=PC3, color=labels, title='Score Plot', labels={'x': 'PC 1', 'y': 'PC 2', 'z': 'PC 3'}, width=800, height=500)\n",
    "\n",
    "    # fig.update_layout(margin=dict(l=30, r=10, t=75, b=20))\n",
    "    # return fig\n",
    "\n",
    "score_plot_2(df_numeric, pca, labels=df['Class'])"
   ]
  },
  {
   "cell_type": "code",
   "execution_count": null,
   "metadata": {},
   "outputs": [],
   "source": [
    "# def score_plot(df):\n",
    "#     pc1 = df.loc['PC 1'].iloc[3:]\n",
    "#     pc2 = df.loc['PC 2'].iloc[3:]\n",
    "#     pc3 = df.loc['PC 3'].iloc[3:]\n",
    "#     ax = sns.scatterplot(x=pc1, y=pc2, size=pc3)\n",
    "#     ax.set(\n",
    "#         title='Score Plot',\n",
    "#         ylim=(-1, 1)\n",
    "#     )\n",
    "#     ylim = ax.get_ylim()\n",
    "#     xlim = ax.get_xlim()\n",
    "#     ax.plot([0, 0], [ylim[0], ylim[1]], color='grey', linestyle='--', linewidth=1)\n",
    "#     ax.plot([xlim[0], xlim[1]], [0, 0], color='grey', linestyle='--', linewidth=1)\n",
    "\n",
    "# score_plot(pca_res)"
   ]
  },
  {
   "cell_type": "code",
   "execution_count": null,
   "metadata": {},
   "outputs": [],
   "source": [
    "# # This function plots the loading plot.\n",
    "# # Pass original data dataframe and returns of PCA to this function. Optional width, height and margin\n",
    "# # This function returns the axes of the loading plot\n",
    "\n",
    "# def loading_plot_C(data, pca, width=5, height=5, margin=0.5):\n",
    "\n",
    "#     fig, ax = plt.subplots(figsize = (width,height))\n",
    "\n",
    "#     #Set limits for figure\n",
    "#     x_min = min(pca.components_[0,:].min(),0)-margin\n",
    "#     x_max = max(pca.components_[0,:].max(),0)+margin\n",
    "#     y_min = min(pca.components_[1,:].min(),0)-margin\n",
    "#     y_max = max(pca.components_[1,:].max(),0)+margin\n",
    "\n",
    "#     ax.set_xlim(x_min, x_max)\n",
    "#     ax.set_ylim(y_min, y_max)\n",
    "\n",
    "#     #Scaling factor for text position\n",
    "#     text_pos = 0.2\n",
    "\n",
    "#     for i, v in enumerate(pca.components_.T):\n",
    "#         ax.arrow(0, 0, v[0], v[1], head_width=0.1, head_length=0.1, linewidth=2, color='red')\n",
    "#         ax.text(v[0], v[1]+text_pos, data.columns[i], color='black', ha='center', va='center', fontsize=12)\n",
    "\n",
    "#     plt.plot([x_min, x_max], [0, 0], color='k', linestyle='--', linewidth=1)\n",
    "#     plt.plot([0, 0], [y_min, y_max], color='k', linestyle='--', linewidth=1)\n",
    "#     ax.set_xlabel(\"PC1\", fontsize=14)\n",
    "#     ax.set_ylabel(\"PC2\", fontsize=14)\n",
    "#     ax.set_title(\"Loading plot\", fontsize = 14)\n",
    "\n",
    "# loading_plot_C(df_numeric, pca)"
   ]
  },
  {
   "cell_type": "code",
   "execution_count": null,
   "metadata": {},
   "outputs": [],
   "source": [
    "def loading_plots(pca_res):\n",
    "    fig, ax = plt.subplots(nrows=pca_res.shape[0], figsize=(8, 8))\n",
    "    for i in range(pca_res.shape[0]):\n",
    "        ax[i].set(\n",
    "            xlim=(pca_res.values.min() - 0.2, pca_res.values.max() + 0.2),\n",
    "            ylim=(-1, 1),\n",
    "            yticks=()\n",
    "        )\n",
    "        sns.scatterplot(x=pca_res.iloc[i], y=[0] * len(pca_res.iloc[i]), hue=pca_res.columns.values, ax=ax[i], legend=None)\n",
    "        ax[i].plot([0, 0], [pca_res.values.min() - 0.2, pca_res.values.max() + 0.2], '--', color='grey', linewidth=1)\n",
    "        for j in range(pca_res.shape[1]):\n",
    "            ax[i].text(x=pca_res.iloc[i, j] - 0.02, y=0.1 + j / 18, s=pca_res.columns.values[j])\n",
    "    plt.subplots_adjust(hspace=0.4)\n",
    "\n",
    "loading_plots(pca_results_focused)"
   ]
  },
  {
   "source": [
    "### Interpretation of the Principal Components\n",
    "\n",
    "1.  PC 1:\n",
    "    *   PC 1 seems to measure the contrast between the amount of silicon and calcium against the amount of potassium, sodium, aluminium and magnesium\n",
    "    *   Therefore, a higher score for PC 1 means that the food has a greater imbalance of sugar and non-sugar nutrients\n",
    "    *   A lower score for PC 1 means that the food is very sugary and, possibly, very sweet\n",
    "2.  PC 2:\n",
    "    *   PC 2 seems to measure the contrast between the amount of potassium, calcium and aluminium against the amount of sodium, silicon and magnesium"
   ],
   "cell_type": "markdown",
   "metadata": {}
  },
  {
   "source": [
    "## Part (c)\n",
    "\n",
    "The following shows the attributes of a glass object. Which class does it likely belong to?\n",
    "Explain your answer with the aid of a suitable graph with colour or marker to display\n",
    "‘Class’ information.\n",
    "\n",
    "<br />\n",
    "<table style=\"text-align:left;\">\n",
    "    <tr>\n",
    "        <th>RI</th>\n",
    "        <td style=\"padding:0 1em;\">1.51641</td>\n",
    "        <th>Si</th>\n",
    "        <td style=\"padding:0 1em;\">73.05</td>\n",
    "    </tr>\n",
    "    <tr>\n",
    "        <th>Na</th>\n",
    "        <td style=\"padding:0 1em;\">13.04</td>\n",
    "        <th>K</th>\n",
    "        <td style=\"padding:0 1em;\">0.53</td>\n",
    "    </tr>\n",
    "    <tr>\n",
    "        <th>Mg</th>\n",
    "        <td style=\"padding:0 1em;\">3.5</td>\n",
    "        <th>Ca</th>\n",
    "        <td style=\"padding:0 1em;\">8.6</td>\n",
    "    </tr>\n",
    "    <tr>\n",
    "        <th>Al</th>\n",
    "        <td style=\"padding:0 1em;\">1.28</td>\n",
    "        <th></th>\n",
    "        <td style=\"padding:0 1em;\"></td>\n",
    "    </tr>\n",
    "</table>"
   ],
   "cell_type": "markdown",
   "metadata": {}
  },
  {
   "cell_type": "code",
   "execution_count": null,
   "metadata": {},
   "outputs": [],
   "source": [
    "def score_plot_with_target(pca, df_numeric, labels, target_vars: List[float]):\n",
    "    def append_to_series(s: pd.Series, value):\n",
    "        return s.append(pd.Series(data=value), ignore_index=True)\n",
    "\n",
    "    def append_to_dataframe(df: pd.DataFrame, values, index):\n",
    "        return df.append(pd.Series(data=values, index=index), ignore_index=True)\n",
    "    \n",
    "    return score_plot(\n",
    "        append_to_dataframe(df_numeric, np.array(target_vars), df_numeric.columns.values),\n",
    "        pca,\n",
    "        labels=append_to_series(labels, 'Target'),\n",
    "        centre=True)\n",
    "\n",
    "score_plot_with_target(pca_results_focused, df_numeric, df['Class'], [1.51641, 13.04, 3.5, 1.28, 73.05, 0.53, 8.6])"
   ]
  },
  {
   "source": [
    "Answer: VehWin\n",
    "<br />\n",
    "Explanation: According to the labelled score plot above, the target can be located in the VehWin (purple) cluster"
   ],
   "cell_type": "markdown",
   "metadata": {}
  },
  {
   "source": [
    "## Part (c)\n",
    "\n",
    " Explain how PC3 is advantageous over the first two principal components."
   ],
   "cell_type": "markdown",
   "metadata": {}
  },
  {
   "source": [
    "Answer: PC3 captures the contrast in critical values for PC1 and PC2 scores\n",
    "<br />\n",
    "Explanation:\n",
    "*   `Mg`, `K` and `Ca` have negative loading values for PC3\n",
    "*   `Mg`, `K` and `Ca` have large absolute loading values for PC1 and PC2\n",
    "*   For PC1, `K` has the lowest loading value while `Ca` has the highest loading value\n",
    "*   For PC2, `Mg` has the lowest loading value while `K` has the highest loading value"
   ],
   "cell_type": "markdown",
   "metadata": {}
  }
 ]
}