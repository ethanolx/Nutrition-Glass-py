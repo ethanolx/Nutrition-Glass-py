{
 "metadata": {
  "language_info": {
   "codemirror_mode": {
    "name": "ipython",
    "version": 3
   },
   "file_extension": ".py",
   "mimetype": "text/x-python",
   "name": "python",
   "nbconvert_exporter": "python",
   "pygments_lexer": "ipython3",
   "version": "3.8.5"
  },
  "orig_nbformat": 2,
  "kernelspec": {
   "name": "python3",
   "display_name": "Python 3.8.5 32-bit"
  },
  "interpreter": {
   "hash": "571bacba9a29d47d526870ce679dff83b29c24567c7b1ef6e20c2daefc5a9ce9"
  }
 },
 "nbformat": 4,
 "nbformat_minor": 2,
 "cells": [
  {
   "cell_type": "code",
   "execution_count": null,
   "metadata": {},
   "outputs": [],
   "source": [
    "%reset -f"
   ]
  },
  {
   "source": [
    "# Question 2 - Refraction of Glass"
   ],
   "cell_type": "markdown",
   "metadata": {}
  },
  {
   "cell_type": "code",
   "execution_count": null,
   "metadata": {},
   "outputs": [],
   "source": [
    "# Data Manipulation Dependencies\n",
    "import numpy as np\n",
    "import pandas as pd\n",
    "from sklearn.decomposition import PCA\n",
    "\n",
    "# Graphing Dependencies\n",
    "import matplotlib.pyplot as plt\n",
    "import seaborn as sns\n",
    "import plotly.express as px\n",
    "\n",
    "# Miscellaneous Dependencies\n",
    "from typing import Union, List"
   ]
  },
  {
   "source": [
    "## Import Data"
   ],
   "cell_type": "markdown",
   "metadata": {}
  },
  {
   "cell_type": "code",
   "execution_count": null,
   "metadata": {},
   "outputs": [],
   "source": [
    "df = pd.read_csv('./data/glass.csv')\n",
    "df.drop(columns='ID', inplace=True)\n",
    "df"
   ]
  },
  {
   "cell_type": "code",
   "execution_count": null,
   "metadata": {},
   "outputs": [],
   "source": [
    "# Extract the quantitative variables from the raw data\n",
    "df_numeric = df.iloc[:,:-1]\n",
    "df_numeric"
   ]
  },
  {
   "source": [
    "## Part (a)\n",
    "\n",
    "Should PCA be carried out on covariance or correlation matrix?<br />\n",
    "Explain."
   ],
   "cell_type": "markdown",
   "metadata": {}
  },
  {
   "source": [
    "PCA should be carried out on the covariance matrix. `RI` measures the ratio of the velocity of light in a vacuum to its velocity in the objects. On the other hand, `Na`, `Mg`, `Al`, `Si`, `K` and `Ca` measure the proportions of their corresponding oxides in the objects by weight. As `RI` and the 6 other quantitative variables have different scales and measure different things, it doesn't make sense to carry out PCA on the correlation matrix. Therefore, PCA should be carried out on the covariance matrix."
   ],
   "cell_type": "markdown",
   "metadata": {}
  },
  {
   "source": [
    "## Part (b)\n",
    "\n",
    "Extract the principal components.<br />\n",
    "Justify your decision and interpret the principal components.<br />\n",
    "You should include the necessary tables, outputs and graphs."
   ],
   "cell_type": "markdown",
   "metadata": {}
  },
  {
   "cell_type": "code",
   "execution_count": null,
   "metadata": {},
   "outputs": [],
   "source": [
    "# Perform eigendecomposition on covariance matrix\n",
    "pca = PCA(n_components=7).fit(df_numeric)\n",
    "\n",
    "# View the eigenvectors (row-wise)\n",
    "pca.components_.round(3)"
   ]
  },
  {
   "cell_type": "code",
   "execution_count": null,
   "metadata": {},
   "outputs": [],
   "source": [
    "# Summarize eigenvalues, eigenvectors and the amount of variance they explain respectively\n",
    "def get_pca_results(pca, col_names, precision: int = 5):\n",
    "\n",
    "    index = [f'PC {i + 1}' for i in range(pca.n_components_)]\n",
    "    columns = np.concatenate((\n",
    "        np.array(['Eigenvalue', 'Explained Variance', 'Cumulative Explained Variance']),\n",
    "        col_names\n",
    "    ))\n",
    "\n",
    "    return pd.DataFrame(\n",
    "        data=np.hstack((\n",
    "            pca.explained_variance_.reshape(-1, 1),                 # Eigenvalues\n",
    "            pca.explained_variance_ratio_.reshape(-1, 1),           # Explained Variance\n",
    "            pca.explained_variance_ratio_.cumsum().reshape(-1, 1),  # Cumulative Explained Variance\n",
    "            pca.components_                                         # Eigenvectors\n",
    "        )),\n",
    "        index=index,\n",
    "        columns=columns\n",
    "    ).round(precision)\n",
    "\n",
    "pca_results = get_pca_results(pca, df_numeric.columns.values)\n",
    "pca_results"
   ]
  },
  {
   "source": [
    "### Select Principal Components"
   ],
   "cell_type": "markdown",
   "metadata": {}
  },
  {
   "source": [
    "#### Method 1 - Kaiser's Rule\n",
    "\n",
    "PCA was not carried out on a covariance matrix, so Kaiser's Rule is not applicable in this case."
   ],
   "cell_type": "markdown",
   "metadata": {}
  },
  {
   "source": [
    "#### Method 2 - Cumulative Explained Variance\n",
    "\n",
    "Once again, 80% is the benchmark in this analysis. The top 3 PCs explain more than 80% (90%) of the total variance. Hence, only the top 3 PCs should be retained."
   ],
   "cell_type": "markdown",
   "metadata": {}
  },
  {
   "source": [
    "def eig_expl(pca, proportion=0.8):\n",
    "    cum_expl_var = pca['Cumulative Explained Variance']\n",
    "    first_to_cross_threshold = cum_expl_var[cum_expl_var < proportion].shape[0]\n",
    "    pca_satisified = pca.iloc[:first_to_cross_threshold + 1]\n",
    "    return pca_satisified\n",
    "\n",
    "eig_expl(pca_results)"
   ],
   "cell_type": "code",
   "metadata": {},
   "execution_count": null,
   "outputs": []
  },
  {
   "source": [
    "#### Method 3 - Scree Plot\n",
    "\n",
    "By the scree plot, there is an elbow at the 4th PC. Therefore, only the top 3 PCs should be kept."
   ],
   "cell_type": "markdown",
   "metadata": {}
  },
  {
   "cell_type": "code",
   "execution_count": null,
   "metadata": {},
   "outputs": [],
   "source": [
    "def circular_mark(ax, x, y, **kwargs):\n",
    "    default_options = dict(marker='o', mec='r', mfc='none', markersize=28)\n",
    "    for opt in default_options:\n",
    "        if opt not in kwargs.keys():\n",
    "            kwargs[opt] = default_options[opt]\n",
    "    ax.plot(x, y, **kwargs)\n",
    "    return ax"
   ]
  },
  {
   "cell_type": "code",
   "execution_count": null,
   "metadata": {},
   "outputs": [],
   "source": [
    "def scree_plot(pca, mark: Union[int, None] = None):\n",
    "    with sns.axes_style(style='darkgrid'):\n",
    "        ax = sns.pointplot(x=pca.index, y=pca['Eigenvalue'])\n",
    "        ax.set(\n",
    "            title='Scree Plot'\n",
    "        )\n",
    "        if mark is not None:\n",
    "            circular_mark(ax, mark - 1, pca['Eigenvalue'][mark - 1])\n",
    "\n",
    "    return pca.iloc[:mark-1]\n",
    "\n",
    "scree_plot(pca_results, mark=4)"
   ]
  },
  {
   "source": [
    "#### Summary of Principal Component Selection\n",
    "\n",
    "Both methods 2 and 3 agree that the top 3 Principal Components should be kept."
   ],
   "cell_type": "markdown",
   "metadata": {}
  },
  {
   "cell_type": "code",
   "execution_count": null,
   "metadata": {},
   "outputs": [],
   "source": [
    "def get_focused_pca_results(pca_results, num_of_pcs):\n",
    "    return pca_results.iloc[:num_of_pcs, 3:]\n",
    "\n",
    "pca_results_focused = get_focused_pca_results(pca_results, 3)\n",
    "pca_results_focused"
   ]
  },
  {
   "source": [
    "### Score Plot\n",
    "\n",
    "Visualize the transformed points using a 3D scatter plot."
   ],
   "cell_type": "markdown",
   "metadata": {}
  },
  {
   "cell_type": "code",
   "execution_count": null,
   "metadata": {},
   "outputs": [],
   "source": [
    "def score_plot(df, pca, labels: Union[pd.Series, None] = None):\n",
    "    \n",
    "    transformed = pca.transform(df)\n",
    "    PC1, PC2, PC3 = transformed[:,0], transformed[:,1], transformed[:,2]\n",
    "\n",
    "    fig = px.scatter_3d(x=PC1, y=PC2, z=PC3, color=labels, title='Score Plot', labels={'x': 'PC 1', 'y': 'PC 2', 'z': 'PC 3'}, width=800, height=500)\n",
    "\n",
    "    fig.update_layout(margin=dict(l=30, r=10, t=75, b=20))\n",
    "    return fig\n",
    "\n",
    "score_plot(df_numeric, pca, labels=df['Class'])"
   ]
  },
  {
   "source": [
    "From the 3D score plot, it is quite obvious that the different classes of glass objects form relatively distinct clusters. This is useful in predicting the class of an unknown glass object, like in Part (c)."
   ],
   "cell_type": "markdown",
   "metadata": {}
  },
  {
   "source": [
    "### Loading Plots\n",
    "\n",
    "Visualize the loading values using several 1D scatter plots (1 for each PC)."
   ],
   "cell_type": "markdown",
   "metadata": {}
  },
  {
   "cell_type": "code",
   "execution_count": null,
   "metadata": {},
   "outputs": [],
   "source": [
    "def loading_plots(pca_results):\n",
    "    fig, ax = plt.subplots(nrows=pca_results.shape[0], figsize=(8, 8))\n",
    "    fig.suptitle(t='Loading Plots', y=0.92, fontsize=14)\n",
    "    for i in range(pca_results.shape[0]):\n",
    "        ax[i].set(\n",
    "            xlim=(pca_results.values.min() - 0.2, pca_results.values.max() + 0.2),\n",
    "            ylim=(-1, 1),\n",
    "            yticks=()\n",
    "        )\n",
    "        sns.scatterplot(x=pca_results.iloc[i], y=[0] * len(pca_results.iloc[i]), hue=pca_results.columns.values, ax=ax[i], legend=None)\n",
    "        ax[i].plot([0, 0], [-1, 1], '--', color='grey', linewidth=1)\n",
    "        for j in range(pca_results.shape[1]):\n",
    "            ax[i].text(x=pca_results.iloc[i, j] - 0.02, y=0.1 + j / 18, s=pca_results.columns.values[j])\n",
    "    plt.subplots_adjust(hspace=0.4)\n",
    "\n",
    "loading_plots(pca_results_focused)"
   ]
  },
  {
   "cell_type": "code",
   "execution_count": null,
   "metadata": {},
   "outputs": [],
   "source": [
    "# RI is redundant\n",
    "pca_results_focused['RI']"
   ]
  },
  {
   "source": [
    "### Interpretation of the Principal Components\n",
    "\n",
    "1.  PC 1:\n",
    "    *   PC 1 seems to measure the contrast between the concentrations of silicon oxide (SiO$_{2}$) and calcium oxide (CaO) against the concentrations of potassium oxide (K$_{2}$O), sodium oxide (Na$_{2}$O), aluminium oxide (Al$_{2}$O$_{3}$) and magnesium oxide (MgO)\n",
    "    *   `Ca` and `Si` have positive loading values while\n",
    "    *   `K`, `Na`, `Al` and `Mg` have negative loading values\n",
    "    *   A higher PC 1 score means that the glass object has a higher concentration of silicon oxide and calcium oxide as compared to the rest of the oxides involved\n",
    "    *   A lower PC 1 score means that the glass object has a lower concentration of silicon oxide and calcium oxide as compared to the rest of the oxides involved\n",
    "2.  PC 2:\n",
    "    *   PC 2 seems to measure the contrast between the concentrations of potassium oxide, calcium oxide and aluminium oxide against the concentrations of magnesium oxide, sodium oxide and silicon oxide\n",
    "    *   `K`, `Ca` and `Al` have positive loading values while\n",
    "    *   `Na`, `Si` and `Mg` have negative loading values\n",
    "    *   A higher PC 2 score means that the glass object has a higher concentration of potassium oxide, calcium oxide and aluminium oxide as compared to the rest of the oxides involved\n",
    "    *   A lower PC 2 score means that the glass object has a lower concentration of potassium oxide, calcium oxide and aluminium oxide as compared to the rest of the oxides involved\n",
    "3.  PC 3:\n",
    "    *   PC 3 seems to measure the contrast between the concentrations of aluminium oxide, sodium oxide and silicon oxide against the concentrations of magnesium oxide, calcium oxide and potassium oxide\n",
    "    *   `Al`, `Na` and `Si` have positive loading values while\n",
    "    *   `Mg`, `Ca` and `K` have negative loading values\n",
    "    *   A higher PC 3 score means that the glass object has a higher concentration of aluminium oxide, sodium oxide and silicon oxide as compared to the rest of the oxides involved\n",
    "    *   A lower PC 3 score means that the glass object has a lower concentration of aluminium oxide, sodium oxide and silicon oxide as compared to the rest of the oxides involved\n",
    "\n",
    "`RI` has a very small absolute loading value for all 3 PCs. This means that `RI` adds little to no information. Thus, it can be considered a redundant variable in this case study."
   ],
   "cell_type": "markdown",
   "metadata": {}
  },
  {
   "source": [
    "## Part (c)\n",
    "\n",
    "The following shows the attributes of a glass object.<br />\n",
    "Which class does it likely belong to?<br />\n",
    "Explain your answer with the aid of a suitable graph with colour or marker to display \"Class\" information.\n",
    "\n",
    "<br />\n",
    "<table style=\"text-align:left;\">\n",
    "    <tr>\n",
    "        <th>RI</th>\n",
    "        <td style=\"padding:0 1em;\">1.51641</td>\n",
    "        <th>Si</th>\n",
    "        <td style=\"padding:0 1em;\">73.05</td>\n",
    "    </tr>\n",
    "    <tr>\n",
    "        <th>Na</th>\n",
    "        <td style=\"padding:0 1em;\">13.04</td>\n",
    "        <th>K</th>\n",
    "        <td style=\"padding:0 1em;\">0.53</td>\n",
    "    </tr>\n",
    "    <tr>\n",
    "        <th>Mg</th>\n",
    "        <td style=\"padding:0 1em;\">3.5</td>\n",
    "        <th>Ca</th>\n",
    "        <td style=\"padding:0 1em;\">8.6</td>\n",
    "    </tr>\n",
    "    <tr>\n",
    "        <th>Al</th>\n",
    "        <td style=\"padding:0 1em;\">1.28</td>\n",
    "        <th></th>\n",
    "        <td style=\"padding:0 1em;\"></td>\n",
    "    </tr>\n",
    "</table>"
   ],
   "cell_type": "markdown",
   "metadata": {}
  },
  {
   "cell_type": "code",
   "execution_count": null,
   "metadata": {},
   "outputs": [],
   "source": [
    "def score_plot_with_target(pca, df_numeric, labels, target_vars: List[float]):\n",
    "    def append_to_series(s: pd.Series, value):\n",
    "        return s.append(pd.Series(data=value), ignore_index=True)\n",
    "\n",
    "    def append_to_dataframe(df: pd.DataFrame, values, index):\n",
    "        return df.append(pd.Series(data=values, index=index), ignore_index=True)\n",
    "    \n",
    "    return score_plot(\n",
    "        append_to_dataframe(df_numeric, np.array(target_vars), df_numeric.columns.values),\n",
    "        pca,\n",
    "        labels=append_to_series(labels, 'Target'))\n",
    "\n",
    "score_plot_with_target(pca, df_numeric, df['Class'], [1.51641, 13.04, 3.5, 1.28, 73.05, 0.53, 8.6])"
   ]
  },
  {
   "source": [
    "<table style=\"text-align:left;\">\n",
    "    <tr>\n",
    "        <th>RI</th>\n",
    "        <td style=\"padding:0 1em;\">1.51641</td>\n",
    "        <th>Si</th>\n",
    "        <td style=\"padding:0 1em;\">73.05</td>\n",
    "    </tr>\n",
    "    <tr>\n",
    "        <th>Na</th>\n",
    "        <td style=\"padding:0 1em;\">13.04</td>\n",
    "        <th>K</th>\n",
    "        <td style=\"padding:0 1em;\">0.53</td>\n",
    "    </tr>\n",
    "    <tr>\n",
    "        <th>Mg</th>\n",
    "        <td style=\"padding:0 1em;\">3.5</td>\n",
    "        <th>Ca</th>\n",
    "        <td style=\"padding:0 1em;\">8.6</td>\n",
    "    </tr>\n",
    "    <tr>\n",
    "        <th>Al</th>\n",
    "        <td style=\"padding:0 1em;\">1.28</td>\n",
    "        <th></th>\n",
    "        <td style=\"padding:0 1em;\"></td>\n",
    "    </tr>\n",
    "</table>\n",
    "<br />\n",
    "<br />\n",
    "\n",
    "The glass object likely belongs to the `VehWin` (Vehicle Window) class. The given (above) data was  transformed by PCs 1 and 2, and plotted on a 3D labelled score plot, together with the rest of the data points. As the target datum point (light blue) was situated in the `VehWin` (purple) cluster, it is likely that the glass object belongs to the `VehWin` class."
   ],
   "cell_type": "markdown",
   "metadata": {}
  },
  {
   "source": [
    "## Part (d)\n",
    "\n",
    "Explain how PC3 is advantageous over the first two principal components."
   ],
   "cell_type": "markdown",
   "metadata": {}
  },
  {
   "cell_type": "code",
   "execution_count": null,
   "metadata": {},
   "outputs": [],
   "source": [
    "# PC 1 and PC 2 display the absolute loading values for PC1 and PC2 respectively\n",
    "# PC 3 is unaltered\n",
    "loading_plots(pd.concat((pca_results_focused.abs().iloc[:2], pca_results_focused.iloc[2:3])))"
   ]
  },
  {
   "source": [
    "PC3 captures the contrast between the more important variables and less important variables of both PC1 and PC2. For PC1, `Ca` and `K` have the 2 highest absolute loading values. In other words, `Ca` and `K` are the most important variables for PC 1. For PC2, `K` and `Mg` are the most important variables. These 3 variables (`Mg`, `K` and `Ca`) have negative loading values for PC3. The rest of the variables (`Si`, `Al` and `Na`) have positive loading values for PC3. PC3 tells the difference between the positive and negative values of the individual variables during transformation by PC1 or PC2. For example, if PC1 was close to 0, and PC3 was large, that means that during the transformation of PC1, the individual transformed variables were quite even."
   ],
   "cell_type": "markdown",
   "metadata": {}
  }
 ]
}