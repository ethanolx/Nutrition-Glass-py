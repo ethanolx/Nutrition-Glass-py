{
 "metadata": {
  "language_info": {
   "codemirror_mode": {
    "name": "ipython",
    "version": 3
   },
   "file_extension": ".py",
   "mimetype": "text/x-python",
   "name": "python",
   "nbconvert_exporter": "python",
   "pygments_lexer": "ipython3",
   "version": "3.8.5"
  },
  "orig_nbformat": 2,
  "kernelspec": {
   "name": "python385jvsc74a57bd0571bacba9a29d47d526870ce679dff83b29c24567c7b1ef6e20c2daefc5a9ce9",
   "display_name": "Python 3.8.5 32-bit"
  }
 },
 "nbformat": 4,
 "nbformat_minor": 2,
 "cells": [
  {
   "cell_type": "code",
   "execution_count": null,
   "metadata": {},
   "outputs": [],
   "source": [
    "import numpy as np\n",
    "import sympy as sp\n",
    "import pandas as pd\n",
    "\n",
    "import matplotlib.pyplot as plt\n",
    "from mpl_toolkits.mplot3d import Axes3D\n",
    "import seaborn as sns\n",
    "import plotly.express as px\n",
    "\n",
    "from typing import Union\n",
    "\n",
    "from sklearn.decomposition import PCA"
   ]
  },
  {
   "cell_type": "code",
   "execution_count": null,
   "metadata": {},
   "outputs": [],
   "source": [
    "df = pd.read_csv('./data/glass.csv')\n",
    "df.drop(columns='ID', inplace=True)\n",
    "df"
   ]
  },
  {
   "source": [
    "## Part (a)"
   ],
   "cell_type": "markdown",
   "metadata": {}
  },
  {
   "source": [
    "PCA should be carried out on the covariance matrix. All the variables (nutrients) are measured in terms of mass. Although they have different units, they can be scaled such that they are all in grams."
   ],
   "cell_type": "markdown",
   "metadata": {}
  },
  {
   "source": [
    "## Part (b)"
   ],
   "cell_type": "markdown",
   "metadata": {}
  },
  {
   "cell_type": "code",
   "execution_count": null,
   "metadata": {},
   "outputs": [],
   "source": [
    "df_numeric = df.iloc[:,:-1]\n",
    "df_numeric"
   ]
  },
  {
   "cell_type": "code",
   "execution_count": null,
   "metadata": {},
   "outputs": [],
   "source": [
    "pca = PCA(n_components=7).fit(df_numeric)\n",
    "\n",
    "pca.components_.round(5)"
   ]
  },
  {
   "cell_type": "code",
   "execution_count": null,
   "metadata": {},
   "outputs": [],
   "source": [
    "def get_pca_results(pca, col_names, precision: int = 5):\n",
    "\n",
    "    index = [f'PC {i + 1}' for i in range(pca.n_components_)]\n",
    "    columns = np.concatenate((\n",
    "        np.array(['Eigenvalue', 'Explained Variance', 'Cumulative Explained Variance']),\n",
    "        col_names\n",
    "    ))\n",
    "\n",
    "    return pd.DataFrame(\n",
    "        data=np.hstack((\n",
    "            pca.explained_variance_.reshape(-1, 1),                 # Eigenvalues\n",
    "            pca.explained_variance_ratio_.reshape(-1, 1),           # Explained Variance\n",
    "            pca.explained_variance_ratio_.cumsum().reshape(-1, 1),  # Cumulative Explained Variance\n",
    "            pca.components_                                         # Eigenvectors\n",
    "        )),\n",
    "        index=index,\n",
    "        columns=columns\n",
    "    ).round(precision)\n",
    "\n",
    "pca_results = get_pca_results(pca, df_numeric.columns.values)\n",
    "pca_results"
   ]
  },
  {
   "cell_type": "code",
   "execution_count": null,
   "metadata": {},
   "outputs": [],
   "source": [
    "# def pca_results(data, pca):\n",
    "    \n",
    "#     # Dimension indexing\n",
    "#     dimensions = [f'PC {i}' for i in range(1, len(pca.components_) + 1)]\n",
    "    \n",
    "#     # PCA components\n",
    "#     components = pd.DataFrame(np.round(pca.components_, 4), columns = data.keys()) \n",
    "#     components.index = dimensions\n",
    "\n",
    "#     #PCA eigenvalues\n",
    "#     ev = pca.explained_variance_.reshape(len(pca.components_), 1)\n",
    "#     eigenvalues = pd.DataFrame(np.round(ev, 4), columns = ['Eigenvalue']) \n",
    "#     eigenvalues.index = dimensions\n",
    "    \n",
    "#     # PCA explained variance\n",
    "#     ratios = pca.explained_variance_ratio_.reshape(len(pca.components_), 1) \n",
    "#     variance_ratios = pd.DataFrame(np.round(ratios, 4), columns = ['Explained Variance']) \n",
    "#     variance_ratios.index = dimensions\n",
    "\n",
    "#     cum_ratios = np.cumsum(ratios)\n",
    "#     cum_variance_ratios = pd.DataFrame(np.round(cum_ratios, 4), columns = ['Cumulative Explained Variance']) \n",
    "#     cum_variance_ratios.index = dimensions\n",
    "\n",
    "#     # Return a concatenated DataFrame\n",
    "#     return pd.concat([eigenvalues, variance_ratios, cum_variance_ratios, components], axis = 1)\n",
    "\n",
    "# pca_res = pca_results(df_numeric, pca)\n",
    "# pca_res"
   ]
  },
  {
   "source": [
    "def eig_expl(pca, proportion=0.8):\n",
    "    cum_expl_var = pca['Cumulative Explained Variance']\n",
    "    first_to_cross_threshold = cum_expl_var[cum_expl_var < proportion].shape[0]\n",
    "    pca_satisified = pca.iloc[:first_to_cross_threshold + 1]\n",
    "    return pca_satisified\n",
    "\n",
    "eig_expl(pca_results)"
   ],
   "cell_type": "code",
   "metadata": {},
   "execution_count": null,
   "outputs": []
  },
  {
   "source": [
    "### PCA was not carried out on correlation matrix, so "
   ],
   "cell_type": "markdown",
   "metadata": {}
  },
  {
   "cell_type": "code",
   "execution_count": null,
   "metadata": {},
   "outputs": [],
   "source": [
    "# def eig_more_1(pca):\n",
    "#     return pca[pca['Eigenvalue'] >= 1]\n",
    "# \n",
    "# eig_more_1(pca_results)"
   ]
  },
  {
   "cell_type": "code",
   "execution_count": null,
   "metadata": {},
   "outputs": [],
   "source": [
    "def circular_mark(ax, x, y, **kwargs):\n",
    "    default_options = dict(marker='o', mec='r', mfc='none', markersize=28)\n",
    "    for opt in default_options:\n",
    "        if opt not in kwargs.keys():\n",
    "            kwargs[opt] = default_options[opt]\n",
    "    ax.plot(x, y, **kwargs)\n",
    "    return ax"
   ]
  },
  {
   "cell_type": "code",
   "execution_count": null,
   "metadata": {},
   "outputs": [],
   "source": [
    "def scree_plot(pca, mark: Union[int, None] = None):\n",
    "    with sns.axes_style(style='darkgrid'):\n",
    "        ax = sns.pointplot(x=pca.index, y=pca['Eigenvalue'])\n",
    "        ax.set(\n",
    "            title='Scree Plot'\n",
    "        )\n",
    "        if mark is not None:\n",
    "            circular_mark(ax, mark - 1, pca['Eigenvalue'][mark - 1])\n",
    "\n",
    "    return pca.iloc[:mark-1]\n",
    "\n",
    "scree_plot(pca_results, mark=4)"
   ]
  },
  {
   "cell_type": "code",
   "execution_count": null,
   "metadata": {},
   "outputs": [],
   "source": [
    "def get_focused_pca(pca, num_of_pcs):\n",
    "    return pca_results.iloc[:num_of_pcs, 3:]\n",
    "\n",
    "pca_results_focused = get_focused_pca(pca_results, 3)\n",
    "pca_results_focused"
   ]
  },
  {
   "cell_type": "code",
   "execution_count": null,
   "metadata": {},
   "outputs": [],
   "source": [
    "def score_plot(df, pca, labels: Union[pd.Series, None] = None, centre=False, **kwargs):\n",
    "\n",
    "    PC1 = df @ pca.loc['PC 1'] if not centre else (df - df.mean(axis=0)) @ pca.loc['PC 1']\n",
    "    PC2 = df @ pca.loc['PC 2'] if not centre else (df - df.mean(axis=0)) @ pca.loc['PC 2']\n",
    "    PC3 = df @ pca.loc['PC 3'] if not centre else (df - df.mean(axis=0)) @ pca.loc['PC 3']\n",
    "\n",
    "    ax = px.scatter_3d(x=PC1, y=PC2, z=PC3, color=labels, title='Score Plot', labels=['PC 1', 'PC 2', 'PC 3'])\n",
    "\n",
    "    # if labels is not None:\n",
    "    #     ax.scatter(PC1, PC2, PC3, label=labels)\n",
    "    # else:\n",
    "    #     sns.scatterplot(x=PC1, y=PC2, hue=PC3, ax=ax, **kwargs)\n",
    "\n",
    "    # ax.set(\n",
    "    #     title='Score Plot',\n",
    "    #     xlabel='PC 1',\n",
    "    #     ylabel='PC 2'\n",
    "    # )\n",
    "\n",
    "    # xlim = ax.set_xlim()\n",
    "    # ylim = ax.set_ylim()\n",
    "    # zlim = ax.set_zlim3d()\n",
    "\n",
    "    # ax.plot([0, 0], [ylim[0], ylim[1]], color='grey', linestyle='--', linewidth=1)\n",
    "    # ax.plot([xlim[0], xlim[1]], [0, 0], color='grey', linestyle='--', linewidth=1)\n",
    "    # ax.plot([0, 0], [0, 0], [zlim[0], zlim[1]], color='grey', linestyle='--', linewidth=1)\n",
    "    return ax\n",
    "\n",
    "score_plot(df_numeric, pca_results_focused, df['Class'], centre=False, palette='crest')\n",
    "score_plot(df_numeric, pca_results_focused, df['Class'], centre=True, palette='crest')"
   ]
  },
  {
   "cell_type": "code",
   "execution_count": null,
   "metadata": {},
   "outputs": [],
   "source": [
    "# def score_plot(df):\n",
    "#     pc1 = df.loc['PC 1'].iloc[3:]\n",
    "#     pc2 = df.loc['PC 2'].iloc[3:]\n",
    "#     pc3 = df.loc['PC 3'].iloc[3:]\n",
    "#     ax = sns.scatterplot(x=pc1, y=pc2, size=pc3)\n",
    "#     ax.set(\n",
    "#         title='Score Plot',\n",
    "#         ylim=(-1, 1)\n",
    "#     )\n",
    "#     ylim = ax.get_ylim()\n",
    "#     xlim = ax.get_xlim()\n",
    "#     ax.plot([0, 0], [ylim[0], ylim[1]], color='grey', linestyle='--', linewidth=1)\n",
    "#     ax.plot([xlim[0], xlim[1]], [0, 0], color='grey', linestyle='--', linewidth=1)\n",
    "\n",
    "# score_plot(pca_res)"
   ]
  },
  {
   "cell_type": "code",
   "execution_count": null,
   "metadata": {},
   "outputs": [],
   "source": [
    "# This function plots the loading plot.\n",
    "# Pass original data dataframe and returns of PCA to this function. Optional width, height and margin\n",
    "# This function returns the axes of the loading plot\n",
    "\n",
    "def loading_plot_C(data, pca, width=5, height=5, margin=0.5):\n",
    "\n",
    "    fig, ax = plt.subplots(figsize = (width,height))\n",
    "\n",
    "    #Set limits for figure\n",
    "    x_min = min(pca.components_[0,:].min(),0)-margin\n",
    "    x_max = max(pca.components_[0,:].max(),0)+margin\n",
    "    y_min = min(pca.components_[1,:].min(),0)-margin\n",
    "    y_max = max(pca.components_[1,:].max(),0)+margin\n",
    "\n",
    "    ax.set_xlim(x_min, x_max)\n",
    "    ax.set_ylim(y_min, y_max)\n",
    "\n",
    "    #Scaling factor for text position\n",
    "    text_pos = 0.2\n",
    "\n",
    "    for i, v in enumerate(pca.components_.T):\n",
    "        ax.arrow(0, 0, v[0], v[1], head_width=0.1, head_length=0.1, linewidth=2, color='red')\n",
    "        ax.text(v[0], v[1]+text_pos, data.columns[i], color='black', ha='center', va='center', fontsize=12)\n",
    "\n",
    "    plt.plot([x_min, x_max], [0, 0], color='k', linestyle='--', linewidth=1)\n",
    "    plt.plot([0, 0], [y_min, y_max], color='k', linestyle='--', linewidth=1)\n",
    "    ax.set_xlabel(\"PC1\", fontsize=14)\n",
    "    ax.set_ylabel(\"PC2\", fontsize=14)\n",
    "    ax.set_title(\"Loading plot\", fontsize = 14)\n",
    "\n",
    "loading_plot_C(df_numeric, pca)"
   ]
  },
  {
   "cell_type": "code",
   "execution_count": null,
   "metadata": {},
   "outputs": [],
   "source": [
    "def loading_plots(pca_res):\n",
    "    fig, ax = plt.subplots(nrows=pca_res.shape[0], figsize=(8, 8))\n",
    "    for i in range(pca_res.shape[0]):\n",
    "        ax[i].set(\n",
    "            xlim=(pca_res.values.min() - 0.2, pca_res.values.max() + 0.2),\n",
    "            ylim=(-1, 1),\n",
    "            yticks=()\n",
    "        )\n",
    "        sns.scatterplot(x=pca_res.iloc[i], y=[0] * len(pca_res.iloc[i]), hue=pca_res.columns.values, ax=ax[i], legend=None)\n",
    "        ax[i].plot([0, 0], [pca_res.values.min() - 0.2, pca_res.values.max() + 0.2], '--', color='grey', linewidth=1)\n",
    "        for j in range(pca_res.shape[1]):\n",
    "            ax[i].text(x=pca_res.iloc[i, j] - 0.02, y=0.1 + j / 18, s=pca_res.columns.values[j])\n",
    "    plt.subplots_adjust(hspace=0.4)\n",
    "\n",
    "loading_plots(pca_res.iloc[:,3:])"
   ]
  },
  {
   "source": [
    "## Part (c)"
   ],
   "cell_type": "markdown",
   "metadata": {}
  },
  {
   "cell_type": "code",
   "execution_count": null,
   "metadata": {},
   "outputs": [],
   "source": []
  }
 ]
}